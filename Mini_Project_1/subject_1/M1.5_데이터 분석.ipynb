{
 "cells": [
  {
   "cell_type": "markdown",
   "id": "boxed-jamaica",
   "metadata": {
    "id": "boxed-jamaica"
   },
   "source": [
    "# 서울시 생활정보 기반 대중교통 수요 분석 프로젝트\n",
    "\n",
    "* 공공 데이터를 활용해 버스노선 관련 인사이트를 도출하여 유용한 정책을 세우는데 도움을 주고자 한다."
   ]
  },
  {
   "cell_type": "markdown",
   "id": "46fa690c",
   "metadata": {
    "id": "46fa690c"
   },
   "source": [
    "* 제공 데이터\n",
    "    - 구 별 유동인구 데이터\n",
    "    - 구 별 주민 등록 데이터\n",
    "    - 구 별 업종 등록 정보\n",
    "    - 버스 승하차 및 운행 노선 데이터 \n",
    "\n",
    "- 위 제공 데이터를 분석하여 버스 노선 추가 필요 대상 지역(구 단위)을 선정하고자 한다."
   ]
  },
  {
   "cell_type": "markdown",
   "id": "22a4bba9",
   "metadata": {},
   "source": [
    "## 0. Data Merge"
   ]
  },
  {
   "cell_type": "code",
   "execution_count": 1,
   "id": "ce78669f",
   "metadata": {
    "tags": []
   },
   "outputs": [],
   "source": [
    "import pandas as pd"
   ]
  },
  {
   "cell_type": "code",
   "execution_count": 2,
   "id": "d91f797e",
   "metadata": {
    "tags": []
   },
   "outputs": [],
   "source": [
    "standard = pd.DataFrame({'도착 시군구 코드': [11010, 11020, 11030, 11040, 11050, 11060, 11070, 11080, 11090, 11100, 11110, 11120, 11130, 11140, 11150, 11160, 11170, 11180, 11190, 11200, 11210, 11220, 11230, 11240, 11250],\n",
    "                         '자치구' :['종로구','중구','용산구','성동구','광진구','동대문구','중랑구','성북구','강북구','도봉구','노원구','은평구','서대문구','마포구','양천구','강서구','구로구','금천구','영등포구','동작구','관악구','서초구','강남구','송파구','강동구']})"
   ]
  },
  {
   "cell_type": "code",
   "execution_count": 3,
   "id": "823d3b41",
   "metadata": {
    "tags": []
   },
   "outputs": [
    {
     "data": {
      "text/html": [
       "<div>\n",
       "<style scoped>\n",
       "    .dataframe tbody tr th:only-of-type {\n",
       "        vertical-align: middle;\n",
       "    }\n",
       "\n",
       "    .dataframe tbody tr th {\n",
       "        vertical-align: top;\n",
       "    }\n",
       "\n",
       "    .dataframe thead th {\n",
       "        text-align: right;\n",
       "    }\n",
       "</style>\n",
       "<table border=\"1\" class=\"dataframe\">\n",
       "  <thead>\n",
       "    <tr style=\"text-align: right;\">\n",
       "      <th></th>\n",
       "      <th>도착 시군구 코드</th>\n",
       "      <th>자치구</th>\n",
       "    </tr>\n",
       "  </thead>\n",
       "  <tbody>\n",
       "    <tr>\n",
       "      <th>0</th>\n",
       "      <td>11010</td>\n",
       "      <td>종로구</td>\n",
       "    </tr>\n",
       "    <tr>\n",
       "      <th>1</th>\n",
       "      <td>11020</td>\n",
       "      <td>중구</td>\n",
       "    </tr>\n",
       "    <tr>\n",
       "      <th>2</th>\n",
       "      <td>11030</td>\n",
       "      <td>용산구</td>\n",
       "    </tr>\n",
       "    <tr>\n",
       "      <th>3</th>\n",
       "      <td>11040</td>\n",
       "      <td>성동구</td>\n",
       "    </tr>\n",
       "    <tr>\n",
       "      <th>4</th>\n",
       "      <td>11050</td>\n",
       "      <td>광진구</td>\n",
       "    </tr>\n",
       "    <tr>\n",
       "      <th>5</th>\n",
       "      <td>11060</td>\n",
       "      <td>동대문구</td>\n",
       "    </tr>\n",
       "    <tr>\n",
       "      <th>6</th>\n",
       "      <td>11070</td>\n",
       "      <td>중랑구</td>\n",
       "    </tr>\n",
       "    <tr>\n",
       "      <th>7</th>\n",
       "      <td>11080</td>\n",
       "      <td>성북구</td>\n",
       "    </tr>\n",
       "    <tr>\n",
       "      <th>8</th>\n",
       "      <td>11090</td>\n",
       "      <td>강북구</td>\n",
       "    </tr>\n",
       "    <tr>\n",
       "      <th>9</th>\n",
       "      <td>11100</td>\n",
       "      <td>도봉구</td>\n",
       "    </tr>\n",
       "    <tr>\n",
       "      <th>10</th>\n",
       "      <td>11110</td>\n",
       "      <td>노원구</td>\n",
       "    </tr>\n",
       "    <tr>\n",
       "      <th>11</th>\n",
       "      <td>11120</td>\n",
       "      <td>은평구</td>\n",
       "    </tr>\n",
       "    <tr>\n",
       "      <th>12</th>\n",
       "      <td>11130</td>\n",
       "      <td>서대문구</td>\n",
       "    </tr>\n",
       "    <tr>\n",
       "      <th>13</th>\n",
       "      <td>11140</td>\n",
       "      <td>마포구</td>\n",
       "    </tr>\n",
       "    <tr>\n",
       "      <th>14</th>\n",
       "      <td>11150</td>\n",
       "      <td>양천구</td>\n",
       "    </tr>\n",
       "    <tr>\n",
       "      <th>15</th>\n",
       "      <td>11160</td>\n",
       "      <td>강서구</td>\n",
       "    </tr>\n",
       "    <tr>\n",
       "      <th>16</th>\n",
       "      <td>11170</td>\n",
       "      <td>구로구</td>\n",
       "    </tr>\n",
       "    <tr>\n",
       "      <th>17</th>\n",
       "      <td>11180</td>\n",
       "      <td>금천구</td>\n",
       "    </tr>\n",
       "    <tr>\n",
       "      <th>18</th>\n",
       "      <td>11190</td>\n",
       "      <td>영등포구</td>\n",
       "    </tr>\n",
       "    <tr>\n",
       "      <th>19</th>\n",
       "      <td>11200</td>\n",
       "      <td>동작구</td>\n",
       "    </tr>\n",
       "    <tr>\n",
       "      <th>20</th>\n",
       "      <td>11210</td>\n",
       "      <td>관악구</td>\n",
       "    </tr>\n",
       "    <tr>\n",
       "      <th>21</th>\n",
       "      <td>11220</td>\n",
       "      <td>서초구</td>\n",
       "    </tr>\n",
       "    <tr>\n",
       "      <th>22</th>\n",
       "      <td>11230</td>\n",
       "      <td>강남구</td>\n",
       "    </tr>\n",
       "    <tr>\n",
       "      <th>23</th>\n",
       "      <td>11240</td>\n",
       "      <td>송파구</td>\n",
       "    </tr>\n",
       "    <tr>\n",
       "      <th>24</th>\n",
       "      <td>11250</td>\n",
       "      <td>강동구</td>\n",
       "    </tr>\n",
       "  </tbody>\n",
       "</table>\n",
       "</div>"
      ],
      "text/plain": [
       "    도착 시군구 코드   자치구\n",
       "0       11010   종로구\n",
       "1       11020    중구\n",
       "2       11030   용산구\n",
       "3       11040   성동구\n",
       "4       11050   광진구\n",
       "5       11060  동대문구\n",
       "6       11070   중랑구\n",
       "7       11080   성북구\n",
       "8       11090   강북구\n",
       "9       11100   도봉구\n",
       "10      11110   노원구\n",
       "11      11120   은평구\n",
       "12      11130  서대문구\n",
       "13      11140   마포구\n",
       "14      11150   양천구\n",
       "15      11160   강서구\n",
       "16      11170   구로구\n",
       "17      11180   금천구\n",
       "18      11190  영등포구\n",
       "19      11200   동작구\n",
       "20      11210   관악구\n",
       "21      11220   서초구\n",
       "22      11230   강남구\n",
       "23      11240   송파구\n",
       "24      11250   강동구"
      ]
     },
     "execution_count": 3,
     "metadata": {},
     "output_type": "execute_result"
    }
   ],
   "source": [
    "standard"
   ]
  },
  {
   "cell_type": "code",
   "execution_count": 4,
   "id": "5ee007e0",
   "metadata": {
    "tags": []
   },
   "outputs": [],
   "source": [
    "# 버스 정류장 데이터 - df_seoul_bus_station\n",
    "# 유동인구 데이터 - df_seoul_moving\n",
    "# 구별 상권 데이터 - df_seoul_business\n",
    "# 구별 등록 인구 데이터 - df_seoul_people"
   ]
  },
  {
   "cell_type": "code",
   "execution_count": 5,
   "id": "d8f6cfe8",
   "metadata": {
    "tags": []
   },
   "outputs": [],
   "source": [
    "df_seoul_bus_station = pd.read_csv('df_seoul_bus_station.csv', sep=\",\", encoding = 'UTF-8')\n",
    "df_seoul_moving = pd.read_csv('df_seoul_moving.csv', sep=\",\", encoding = 'UTF-8')\n",
    "df_seoul_business = pd.read_csv('df_seoul_business.csv', sep=\",\", encoding = 'UTF-8')\n",
    "df_seoul_people = pd.read_csv('df_seoul_people.csv', sep=\",\", encoding = 'UTF-8')"
   ]
  },
  {
   "cell_type": "code",
   "execution_count": 6,
   "id": "9cc8bb00",
   "metadata": {
    "tags": []
   },
   "outputs": [],
   "source": [
    "df = pd.merge(standard,df_seoul_people,how='inner', on='자치구')\n",
    "df = pd.merge(df,df_seoul_business,how='inner', on='자치구')\n",
    "df = pd.merge(df,df_seoul_bus_station,how='inner', on='자치구')\n",
    "df = pd.merge(df,df_seoul_moving,how='inner', on='도착 시군구 코드')"
   ]
  },
  {
   "cell_type": "code",
   "execution_count": 7,
   "id": "649d50ad-6a78-4cfc-aa80-6872ac62cc47",
   "metadata": {
    "tags": []
   },
   "outputs": [
    {
     "data": {
      "text/html": [
       "<div>\n",
       "<style scoped>\n",
       "    .dataframe tbody tr th:only-of-type {\n",
       "        vertical-align: middle;\n",
       "    }\n",
       "\n",
       "    .dataframe tbody tr th {\n",
       "        vertical-align: top;\n",
       "    }\n",
       "\n",
       "    .dataframe thead th {\n",
       "        text-align: right;\n",
       "    }\n",
       "</style>\n",
       "<table border=\"1\" class=\"dataframe\">\n",
       "  <thead>\n",
       "    <tr style=\"text-align: right;\">\n",
       "      <th></th>\n",
       "      <th>도착 시군구 코드</th>\n",
       "      <th>자치구</th>\n",
       "      <th>남자</th>\n",
       "      <th>여자</th>\n",
       "      <th>합계</th>\n",
       "      <th>택시운송업</th>\n",
       "      <th>택시운송업.1</th>\n",
       "      <th>한식 일반 음식점업</th>\n",
       "      <th>한식 일반 음식점업.1</th>\n",
       "      <th>용달 화물자동차 운송업</th>\n",
       "      <th>...</th>\n",
       "      <th>정류장수</th>\n",
       "      <th>노선수</th>\n",
       "      <th>승차총승객수</th>\n",
       "      <th>하차총승객수</th>\n",
       "      <th>승차평균승객수</th>\n",
       "      <th>하차평균승객수</th>\n",
       "      <th>평균 이동 시간(분)</th>\n",
       "      <th>이동인구(합)</th>\n",
       "      <th>총 이동 시간</th>\n",
       "      <th>총 이동인구</th>\n",
       "    </tr>\n",
       "  </thead>\n",
       "  <tbody>\n",
       "    <tr>\n",
       "      <th>0</th>\n",
       "      <td>11010</td>\n",
       "      <td>종로구</td>\n",
       "      <td>71890</td>\n",
       "      <td>78563</td>\n",
       "      <td>150453</td>\n",
       "      <td>215</td>\n",
       "      <td>215</td>\n",
       "      <td>1,548</td>\n",
       "      <td>5,912</td>\n",
       "      <td>618</td>\n",
       "      <td>...</td>\n",
       "      <td>356</td>\n",
       "      <td>105</td>\n",
       "      <td>4500874</td>\n",
       "      <td>4348356</td>\n",
       "      <td>123.298104</td>\n",
       "      <td>119.119987</td>\n",
       "      <td>88.403146</td>\n",
       "      <td>28.184992</td>\n",
       "      <td>75660805</td>\n",
       "      <td>24122435.37</td>\n",
       "    </tr>\n",
       "    <tr>\n",
       "      <th>1</th>\n",
       "      <td>11010</td>\n",
       "      <td>종로구</td>\n",
       "      <td>71890</td>\n",
       "      <td>78563</td>\n",
       "      <td>150453</td>\n",
       "      <td>7</td>\n",
       "      <td>7</td>\n",
       "      <td>230</td>\n",
       "      <td>982</td>\n",
       "      <td>12</td>\n",
       "      <td>...</td>\n",
       "      <td>356</td>\n",
       "      <td>105</td>\n",
       "      <td>4500874</td>\n",
       "      <td>4348356</td>\n",
       "      <td>123.298104</td>\n",
       "      <td>119.119987</td>\n",
       "      <td>88.403146</td>\n",
       "      <td>28.184992</td>\n",
       "      <td>75660805</td>\n",
       "      <td>24122435.37</td>\n",
       "    </tr>\n",
       "    <tr>\n",
       "      <th>2</th>\n",
       "      <td>11010</td>\n",
       "      <td>종로구</td>\n",
       "      <td>71890</td>\n",
       "      <td>78563</td>\n",
       "      <td>150453</td>\n",
       "      <td>5</td>\n",
       "      <td>5</td>\n",
       "      <td>42</td>\n",
       "      <td>145</td>\n",
       "      <td>4</td>\n",
       "      <td>...</td>\n",
       "      <td>356</td>\n",
       "      <td>105</td>\n",
       "      <td>4500874</td>\n",
       "      <td>4348356</td>\n",
       "      <td>123.298104</td>\n",
       "      <td>119.119987</td>\n",
       "      <td>88.403146</td>\n",
       "      <td>28.184992</td>\n",
       "      <td>75660805</td>\n",
       "      <td>24122435.37</td>\n",
       "    </tr>\n",
       "    <tr>\n",
       "      <th>3</th>\n",
       "      <td>11010</td>\n",
       "      <td>종로구</td>\n",
       "      <td>71890</td>\n",
       "      <td>78563</td>\n",
       "      <td>150453</td>\n",
       "      <td>22</td>\n",
       "      <td>22</td>\n",
       "      <td>26</td>\n",
       "      <td>100</td>\n",
       "      <td>9</td>\n",
       "      <td>...</td>\n",
       "      <td>356</td>\n",
       "      <td>105</td>\n",
       "      <td>4500874</td>\n",
       "      <td>4348356</td>\n",
       "      <td>123.298104</td>\n",
       "      <td>119.119987</td>\n",
       "      <td>88.403146</td>\n",
       "      <td>28.184992</td>\n",
       "      <td>75660805</td>\n",
       "      <td>24122435.37</td>\n",
       "    </tr>\n",
       "    <tr>\n",
       "      <th>4</th>\n",
       "      <td>11010</td>\n",
       "      <td>종로구</td>\n",
       "      <td>71890</td>\n",
       "      <td>78563</td>\n",
       "      <td>150453</td>\n",
       "      <td>10</td>\n",
       "      <td>10</td>\n",
       "      <td>31</td>\n",
       "      <td>116</td>\n",
       "      <td>11</td>\n",
       "      <td>...</td>\n",
       "      <td>356</td>\n",
       "      <td>105</td>\n",
       "      <td>4500874</td>\n",
       "      <td>4348356</td>\n",
       "      <td>123.298104</td>\n",
       "      <td>119.119987</td>\n",
       "      <td>88.403146</td>\n",
       "      <td>28.184992</td>\n",
       "      <td>75660805</td>\n",
       "      <td>24122435.37</td>\n",
       "    </tr>\n",
       "  </tbody>\n",
       "</table>\n",
       "<p>5 rows × 35 columns</p>\n",
       "</div>"
      ],
      "text/plain": [
       "   도착 시군구 코드  자치구     남자     여자      합계 택시운송업 택시운송업.1 한식 일반 음식점업 한식 일반 음식점업.1  \\\n",
       "0      11010  종로구  71890  78563  150453   215     215      1,548        5,912   \n",
       "1      11010  종로구  71890  78563  150453     7       7        230          982   \n",
       "2      11010  종로구  71890  78563  150453     5       5         42          145   \n",
       "3      11010  종로구  71890  78563  150453    22      22         26          100   \n",
       "4      11010  종로구  71890  78563  150453    10      10         31          116   \n",
       "\n",
       "  용달 화물자동차 운송업  ... 정류장수  노선수   승차총승객수   하차총승객수     승차평균승객수     하차평균승객수  \\\n",
       "0          618  ...  356  105  4500874  4348356  123.298104  119.119987   \n",
       "1           12  ...  356  105  4500874  4348356  123.298104  119.119987   \n",
       "2            4  ...  356  105  4500874  4348356  123.298104  119.119987   \n",
       "3            9  ...  356  105  4500874  4348356  123.298104  119.119987   \n",
       "4           11  ...  356  105  4500874  4348356  123.298104  119.119987   \n",
       "\n",
       "  평균 이동 시간(분)    이동인구(합)   총 이동 시간       총 이동인구  \n",
       "0   88.403146  28.184992  75660805  24122435.37  \n",
       "1   88.403146  28.184992  75660805  24122435.37  \n",
       "2   88.403146  28.184992  75660805  24122435.37  \n",
       "3   88.403146  28.184992  75660805  24122435.37  \n",
       "4   88.403146  28.184992  75660805  24122435.37  \n",
       "\n",
       "[5 rows x 35 columns]"
      ]
     },
     "execution_count": 7,
     "metadata": {},
     "output_type": "execute_result"
    }
   ],
   "source": [
    "df.head()"
   ]
  },
  {
   "cell_type": "code",
   "execution_count": 8,
   "id": "07ff9c03-b624-4c19-9428-85fbae56c26b",
   "metadata": {},
   "outputs": [
    {
     "data": {
      "text/html": [
       "<div>\n",
       "<style scoped>\n",
       "    .dataframe tbody tr th:only-of-type {\n",
       "        vertical-align: middle;\n",
       "    }\n",
       "\n",
       "    .dataframe tbody tr th {\n",
       "        vertical-align: top;\n",
       "    }\n",
       "\n",
       "    .dataframe thead th {\n",
       "        text-align: right;\n",
       "    }\n",
       "</style>\n",
       "<table border=\"1\" class=\"dataframe\">\n",
       "  <thead>\n",
       "    <tr style=\"text-align: right;\">\n",
       "      <th></th>\n",
       "      <th>도착 시군구 코드</th>\n",
       "      <th>자치구</th>\n",
       "      <th>남자</th>\n",
       "      <th>여자</th>\n",
       "      <th>인구</th>\n",
       "      <th>택시운송업</th>\n",
       "      <th>택시운송업.1</th>\n",
       "      <th>한식 일반 음식점업</th>\n",
       "      <th>한식 일반 음식점업.1</th>\n",
       "      <th>용달 화물자동차 운송업</th>\n",
       "      <th>...</th>\n",
       "      <th>노선수</th>\n",
       "      <th>승차총승객수</th>\n",
       "      <th>하차총승객수</th>\n",
       "      <th>승차평균승객수</th>\n",
       "      <th>하차평균승객수</th>\n",
       "      <th>평균 이동 시간(분)</th>\n",
       "      <th>이동인구(합)</th>\n",
       "      <th>총 이동 시간</th>\n",
       "      <th>총 이동인구</th>\n",
       "      <th>승하차총승객수</th>\n",
       "    </tr>\n",
       "  </thead>\n",
       "  <tbody>\n",
       "    <tr>\n",
       "      <th>0</th>\n",
       "      <td>11010</td>\n",
       "      <td>종로구</td>\n",
       "      <td>71890</td>\n",
       "      <td>78563</td>\n",
       "      <td>150453</td>\n",
       "      <td>215</td>\n",
       "      <td>215</td>\n",
       "      <td>1,548</td>\n",
       "      <td>5,912</td>\n",
       "      <td>618</td>\n",
       "      <td>...</td>\n",
       "      <td>105</td>\n",
       "      <td>4500874</td>\n",
       "      <td>4348356</td>\n",
       "      <td>123.298104</td>\n",
       "      <td>119.119987</td>\n",
       "      <td>88.403146</td>\n",
       "      <td>28.184992</td>\n",
       "      <td>75660805</td>\n",
       "      <td>24122435.37</td>\n",
       "      <td>8849230</td>\n",
       "    </tr>\n",
       "    <tr>\n",
       "      <th>1</th>\n",
       "      <td>11010</td>\n",
       "      <td>종로구</td>\n",
       "      <td>71890</td>\n",
       "      <td>78563</td>\n",
       "      <td>150453</td>\n",
       "      <td>7</td>\n",
       "      <td>7</td>\n",
       "      <td>230</td>\n",
       "      <td>982</td>\n",
       "      <td>12</td>\n",
       "      <td>...</td>\n",
       "      <td>105</td>\n",
       "      <td>4500874</td>\n",
       "      <td>4348356</td>\n",
       "      <td>123.298104</td>\n",
       "      <td>119.119987</td>\n",
       "      <td>88.403146</td>\n",
       "      <td>28.184992</td>\n",
       "      <td>75660805</td>\n",
       "      <td>24122435.37</td>\n",
       "      <td>8849230</td>\n",
       "    </tr>\n",
       "    <tr>\n",
       "      <th>2</th>\n",
       "      <td>11010</td>\n",
       "      <td>종로구</td>\n",
       "      <td>71890</td>\n",
       "      <td>78563</td>\n",
       "      <td>150453</td>\n",
       "      <td>5</td>\n",
       "      <td>5</td>\n",
       "      <td>42</td>\n",
       "      <td>145</td>\n",
       "      <td>4</td>\n",
       "      <td>...</td>\n",
       "      <td>105</td>\n",
       "      <td>4500874</td>\n",
       "      <td>4348356</td>\n",
       "      <td>123.298104</td>\n",
       "      <td>119.119987</td>\n",
       "      <td>88.403146</td>\n",
       "      <td>28.184992</td>\n",
       "      <td>75660805</td>\n",
       "      <td>24122435.37</td>\n",
       "      <td>8849230</td>\n",
       "    </tr>\n",
       "    <tr>\n",
       "      <th>3</th>\n",
       "      <td>11010</td>\n",
       "      <td>종로구</td>\n",
       "      <td>71890</td>\n",
       "      <td>78563</td>\n",
       "      <td>150453</td>\n",
       "      <td>22</td>\n",
       "      <td>22</td>\n",
       "      <td>26</td>\n",
       "      <td>100</td>\n",
       "      <td>9</td>\n",
       "      <td>...</td>\n",
       "      <td>105</td>\n",
       "      <td>4500874</td>\n",
       "      <td>4348356</td>\n",
       "      <td>123.298104</td>\n",
       "      <td>119.119987</td>\n",
       "      <td>88.403146</td>\n",
       "      <td>28.184992</td>\n",
       "      <td>75660805</td>\n",
       "      <td>24122435.37</td>\n",
       "      <td>8849230</td>\n",
       "    </tr>\n",
       "    <tr>\n",
       "      <th>4</th>\n",
       "      <td>11010</td>\n",
       "      <td>종로구</td>\n",
       "      <td>71890</td>\n",
       "      <td>78563</td>\n",
       "      <td>150453</td>\n",
       "      <td>10</td>\n",
       "      <td>10</td>\n",
       "      <td>31</td>\n",
       "      <td>116</td>\n",
       "      <td>11</td>\n",
       "      <td>...</td>\n",
       "      <td>105</td>\n",
       "      <td>4500874</td>\n",
       "      <td>4348356</td>\n",
       "      <td>123.298104</td>\n",
       "      <td>119.119987</td>\n",
       "      <td>88.403146</td>\n",
       "      <td>28.184992</td>\n",
       "      <td>75660805</td>\n",
       "      <td>24122435.37</td>\n",
       "      <td>8849230</td>\n",
       "    </tr>\n",
       "    <tr>\n",
       "      <th>...</th>\n",
       "      <td>...</td>\n",
       "      <td>...</td>\n",
       "      <td>...</td>\n",
       "      <td>...</td>\n",
       "      <td>...</td>\n",
       "      <td>...</td>\n",
       "      <td>...</td>\n",
       "      <td>...</td>\n",
       "      <td>...</td>\n",
       "      <td>...</td>\n",
       "      <td>...</td>\n",
       "      <td>...</td>\n",
       "      <td>...</td>\n",
       "      <td>...</td>\n",
       "      <td>...</td>\n",
       "      <td>...</td>\n",
       "      <td>...</td>\n",
       "      <td>...</td>\n",
       "      <td>...</td>\n",
       "      <td>...</td>\n",
       "      <td>...</td>\n",
       "    </tr>\n",
       "    <tr>\n",
       "      <th>443</th>\n",
       "      <td>11250</td>\n",
       "      <td>강동구</td>\n",
       "      <td>226237</td>\n",
       "      <td>237081</td>\n",
       "      <td>463318</td>\n",
       "      <td>120</td>\n",
       "      <td>120</td>\n",
       "      <td>135</td>\n",
       "      <td>390</td>\n",
       "      <td>73</td>\n",
       "      <td>...</td>\n",
       "      <td>22</td>\n",
       "      <td>2515582</td>\n",
       "      <td>2460905</td>\n",
       "      <td>91.578944</td>\n",
       "      <td>89.588445</td>\n",
       "      <td>89.814904</td>\n",
       "      <td>38.220654</td>\n",
       "      <td>67318336</td>\n",
       "      <td>28647259.60</td>\n",
       "      <td>4976487</td>\n",
       "    </tr>\n",
       "    <tr>\n",
       "      <th>444</th>\n",
       "      <td>11250</td>\n",
       "      <td>강동구</td>\n",
       "      <td>226237</td>\n",
       "      <td>237081</td>\n",
       "      <td>463318</td>\n",
       "      <td>117</td>\n",
       "      <td>436</td>\n",
       "      <td>63</td>\n",
       "      <td>249</td>\n",
       "      <td>89</td>\n",
       "      <td>...</td>\n",
       "      <td>22</td>\n",
       "      <td>2515582</td>\n",
       "      <td>2460905</td>\n",
       "      <td>91.578944</td>\n",
       "      <td>89.588445</td>\n",
       "      <td>89.814904</td>\n",
       "      <td>38.220654</td>\n",
       "      <td>67318336</td>\n",
       "      <td>28647259.60</td>\n",
       "      <td>4976487</td>\n",
       "    </tr>\n",
       "    <tr>\n",
       "      <th>445</th>\n",
       "      <td>11250</td>\n",
       "      <td>강동구</td>\n",
       "      <td>226237</td>\n",
       "      <td>237081</td>\n",
       "      <td>463318</td>\n",
       "      <td>209</td>\n",
       "      <td>372</td>\n",
       "      <td>71</td>\n",
       "      <td>195</td>\n",
       "      <td>153</td>\n",
       "      <td>...</td>\n",
       "      <td>22</td>\n",
       "      <td>2515582</td>\n",
       "      <td>2460905</td>\n",
       "      <td>91.578944</td>\n",
       "      <td>89.588445</td>\n",
       "      <td>89.814904</td>\n",
       "      <td>38.220654</td>\n",
       "      <td>67318336</td>\n",
       "      <td>28647259.60</td>\n",
       "      <td>4976487</td>\n",
       "    </tr>\n",
       "    <tr>\n",
       "      <th>446</th>\n",
       "      <td>11250</td>\n",
       "      <td>강동구</td>\n",
       "      <td>226237</td>\n",
       "      <td>237081</td>\n",
       "      <td>463318</td>\n",
       "      <td>157</td>\n",
       "      <td>187</td>\n",
       "      <td>152</td>\n",
       "      <td>509</td>\n",
       "      <td>144</td>\n",
       "      <td>...</td>\n",
       "      <td>22</td>\n",
       "      <td>2515582</td>\n",
       "      <td>2460905</td>\n",
       "      <td>91.578944</td>\n",
       "      <td>89.588445</td>\n",
       "      <td>89.814904</td>\n",
       "      <td>38.220654</td>\n",
       "      <td>67318336</td>\n",
       "      <td>28647259.60</td>\n",
       "      <td>4976487</td>\n",
       "    </tr>\n",
       "    <tr>\n",
       "      <th>447</th>\n",
       "      <td>11250</td>\n",
       "      <td>강동구</td>\n",
       "      <td>226237</td>\n",
       "      <td>237081</td>\n",
       "      <td>463318</td>\n",
       "      <td>1,441</td>\n",
       "      <td>1,557</td>\n",
       "      <td>152</td>\n",
       "      <td>436</td>\n",
       "      <td>217</td>\n",
       "      <td>...</td>\n",
       "      <td>22</td>\n",
       "      <td>2515582</td>\n",
       "      <td>2460905</td>\n",
       "      <td>91.578944</td>\n",
       "      <td>89.588445</td>\n",
       "      <td>89.814904</td>\n",
       "      <td>38.220654</td>\n",
       "      <td>67318336</td>\n",
       "      <td>28647259.60</td>\n",
       "      <td>4976487</td>\n",
       "    </tr>\n",
       "  </tbody>\n",
       "</table>\n",
       "<p>448 rows × 36 columns</p>\n",
       "</div>"
      ],
      "text/plain": [
       "     도착 시군구 코드  자치구      남자      여자      인구  택시운송업 택시운송업.1 한식 일반 음식점업  \\\n",
       "0        11010  종로구   71890   78563  150453    215     215      1,548   \n",
       "1        11010  종로구   71890   78563  150453      7       7        230   \n",
       "2        11010  종로구   71890   78563  150453      5       5         42   \n",
       "3        11010  종로구   71890   78563  150453     22      22         26   \n",
       "4        11010  종로구   71890   78563  150453     10      10         31   \n",
       "..         ...  ...     ...     ...     ...    ...     ...        ...   \n",
       "443      11250  강동구  226237  237081  463318    120     120        135   \n",
       "444      11250  강동구  226237  237081  463318    117     436         63   \n",
       "445      11250  강동구  226237  237081  463318    209     372         71   \n",
       "446      11250  강동구  226237  237081  463318    157     187        152   \n",
       "447      11250  강동구  226237  237081  463318  1,441   1,557        152   \n",
       "\n",
       "    한식 일반 음식점업.1 용달 화물자동차 운송업  ...  노선수   승차총승객수   하차총승객수     승차평균승객수  \\\n",
       "0          5,912          618  ...  105  4500874  4348356  123.298104   \n",
       "1            982           12  ...  105  4500874  4348356  123.298104   \n",
       "2            145            4  ...  105  4500874  4348356  123.298104   \n",
       "3            100            9  ...  105  4500874  4348356  123.298104   \n",
       "4            116           11  ...  105  4500874  4348356  123.298104   \n",
       "..           ...          ...  ...  ...      ...      ...         ...   \n",
       "443          390           73  ...   22  2515582  2460905   91.578944   \n",
       "444          249           89  ...   22  2515582  2460905   91.578944   \n",
       "445          195          153  ...   22  2515582  2460905   91.578944   \n",
       "446          509          144  ...   22  2515582  2460905   91.578944   \n",
       "447          436          217  ...   22  2515582  2460905   91.578944   \n",
       "\n",
       "        하차평균승객수 평균 이동 시간(분)    이동인구(합)   총 이동 시간       총 이동인구  승하차총승객수  \n",
       "0    119.119987   88.403146  28.184992  75660805  24122435.37  8849230  \n",
       "1    119.119987   88.403146  28.184992  75660805  24122435.37  8849230  \n",
       "2    119.119987   88.403146  28.184992  75660805  24122435.37  8849230  \n",
       "3    119.119987   88.403146  28.184992  75660805  24122435.37  8849230  \n",
       "4    119.119987   88.403146  28.184992  75660805  24122435.37  8849230  \n",
       "..          ...         ...        ...       ...          ...      ...  \n",
       "443   89.588445   89.814904  38.220654  67318336  28647259.60  4976487  \n",
       "444   89.588445   89.814904  38.220654  67318336  28647259.60  4976487  \n",
       "445   89.588445   89.814904  38.220654  67318336  28647259.60  4976487  \n",
       "446   89.588445   89.814904  38.220654  67318336  28647259.60  4976487  \n",
       "447   89.588445   89.814904  38.220654  67318336  28647259.60  4976487  \n",
       "\n",
       "[448 rows x 36 columns]"
      ]
     },
     "execution_count": 8,
     "metadata": {},
     "output_type": "execute_result"
    }
   ],
   "source": [
    "df.rename(columns={'합계': '인구'}, inplace=True)\n",
    "df[\"승하차총승객수\"] = df[\"승차총승객수\"] + df[\"하차총승객수\"]\n",
    "df"
   ]
  },
  {
   "cell_type": "markdown",
   "id": "ca567b34",
   "metadata": {},
   "source": [
    "---"
   ]
  },
  {
   "cell_type": "markdown",
   "id": "b2edf769",
   "metadata": {},
   "source": [
    "## 1. 가설 수립 \n",
    "\n",
    "+ Label(=Target) 설정\n",
    "    * 정해진게 없을 경우: 라벨 데이터 지정 또는 파생변수로 생성\n",
    "    * 가설마다 라벨데이터가 달라도 상관이 없다."
   ]
  },
  {
   "cell_type": "markdown",
   "id": "b3d42e07",
   "metadata": {},
   "source": [
    "* 가설 1\n",
    "  - 인구수와 정류장 수에는 양의 상관관계가 있다."
   ]
  },
  {
   "cell_type": "markdown",
   "id": "4fd1db81",
   "metadata": {},
   "source": [
    "* 가설 2\n",
    "    - 승하차 총 승객수와 정류장 수에는 양의 상관관계가 있다."
   ]
  },
  {
   "cell_type": "markdown",
   "id": "e527bc75",
   "metadata": {},
   "source": [
    "* 가설 3\n",
    "    - 특정 업종이 밀집된 지역은 교통 수요(총 이동 인구)가 높을 것이다."
   ]
  },
  {
   "cell_type": "markdown",
   "id": "6aa7b930",
   "metadata": {},
   "source": [
    "## 2. 단변량 분석\n",
    "\n",
    "+ 변수의 비즈니스 의미  \n",
    "    - 구별 요식업 종사자\n",
    "    - 구별 이동 인원\n",
    "\n",
    "+ 전처리 사항\n",
    "   - NaN 존재 여부 및 조치 방안  \n",
    "   - 가변수화 대상여부  \n",
    "   \n",
    "+ 기초통계량\n",
    "\n",
    "+ 분포  \n",
    "\n",
    "+ 가설 검증\n",
    "\n",
    "+ 인사이트 도출"
   ]
  },
  {
   "cell_type": "code",
   "execution_count": 9,
   "id": "51abf650-1674-4ec1-a806-3ba659a18467",
   "metadata": {},
   "outputs": [],
   "source": [
    "def eda_1_n(data, var, bins = 30) :\n",
    "    # 기초 통계량\n",
    "    display(data[[var]].describe().T)\n",
    "\n",
    "    # 시각화\n",
    "    plt.figure(figsize = (12,8))\n",
    "    plt.subplot(2,1,1)\n",
    "    sns.histplot(data[var], bins = bins, kde = True)\n",
    "    plt.grid()\n",
    "\n",
    "    plt.subplot(2,1,2)\n",
    "    sns.boxplot(x = data[var])\n",
    "    plt.grid()\n",
    "    plt.show()"
   ]
  },
  {
   "cell_type": "code",
   "execution_count": 10,
   "id": "b62009a9",
   "metadata": {
    "tags": []
   },
   "outputs": [],
   "source": [
    "# 시각화 한글폰트 설정\n",
    "import seaborn as sns\n",
    "import matplotlib.pyplot as plt\n",
    "\n",
    "# For Mac OS\n",
    "plt.rc('font', family='AppleGothic')\n",
    "sns.set(font=\"AppleGothic\", \n",
    "        rc={\"axes.unicode_minus\":False}, # 마이너스 부호 깨짐 현상 해결\n",
    "        style='darkgrid')\n",
    "\n",
    "# # For Windows\n",
    "# plt.rc('font', family='Malgun Gothic')\n",
    "# sns.set(font=\"Malgun Gothic\", \n",
    "#         rc={\"axes.unicode_minus\":False}, # 마이너스 부호 깨짐 현상 해결\n",
    "#         style='darkgrid')"
   ]
  },
  {
   "cell_type": "markdown",
   "id": "39ef5d0f",
   "metadata": {},
   "source": [
    "### 1)\n"
   ]
  },
  {
   "cell_type": "code",
   "execution_count": 11,
   "id": "463c0025-75ad-4a6e-90e9-800c89e0caea",
   "metadata": {},
   "outputs": [
    {
     "data": {
      "text/html": [
       "<div>\n",
       "<style scoped>\n",
       "    .dataframe tbody tr th:only-of-type {\n",
       "        vertical-align: middle;\n",
       "    }\n",
       "\n",
       "    .dataframe tbody tr th {\n",
       "        vertical-align: top;\n",
       "    }\n",
       "\n",
       "    .dataframe thead th {\n",
       "        text-align: right;\n",
       "    }\n",
       "</style>\n",
       "<table border=\"1\" class=\"dataframe\">\n",
       "  <thead>\n",
       "    <tr style=\"text-align: right;\">\n",
       "      <th></th>\n",
       "      <th>count</th>\n",
       "      <th>mean</th>\n",
       "      <th>std</th>\n",
       "      <th>min</th>\n",
       "      <th>25%</th>\n",
       "      <th>50%</th>\n",
       "      <th>75%</th>\n",
       "      <th>max</th>\n",
       "    </tr>\n",
       "  </thead>\n",
       "  <tbody>\n",
       "    <tr>\n",
       "      <th>인구</th>\n",
       "      <td>448.0</td>\n",
       "      <td>402345.138393</td>\n",
       "      <td>128728.09535</td>\n",
       "      <td>131793.0</td>\n",
       "      <td>320629.0</td>\n",
       "      <td>404939.0</td>\n",
       "      <td>497883.0</td>\n",
       "      <td>660025.0</td>\n",
       "    </tr>\n",
       "  </tbody>\n",
       "</table>\n",
       "</div>"
      ],
      "text/plain": [
       "    count           mean           std       min       25%       50%  \\\n",
       "인구  448.0  402345.138393  128728.09535  131793.0  320629.0  404939.0   \n",
       "\n",
       "         75%       max  \n",
       "인구  497883.0  660025.0  "
      ]
     },
     "metadata": {},
     "output_type": "display_data"
    },
    {
     "name": "stderr",
     "output_type": "stream",
     "text": [
      "/Users/dkmoon/anaconda3/lib/python3.11/site-packages/seaborn/_oldcore.py:1119: FutureWarning: use_inf_as_na option is deprecated and will be removed in a future version. Convert inf values to NaN before operating instead.\n",
      "  with pd.option_context('mode.use_inf_as_na', True):\n"
     ]
    },
    {
     "data": {
      "image/png": "[encoded data removed]",
      "text/plain": [
       "<Figure size 1200x800 with 2 Axes>"
      ]
     },
     "metadata": {},
     "output_type": "display_data"
    }
   ],
   "source": [
    "# eda_1_n(df,'인구')\n",
    "# 기초 통계량\n",
    "display(df[['인구']].describe().T)\n",
    "\n",
    "# 시각화\n",
    "plt.figure(figsize = (12,8))\n",
    "plt.subplot(2,1,1)\n",
    "sns.histplot(df['인구'], bins = 30, kde = True)\n",
    "plt.grid()\n",
    "\n",
    "plt.subplot(2,1,2)\n",
    "sns.boxplot(x = df['인구'])\n",
    "plt.grid()\n",
    "plt.show()"
   ]
  },
  {
   "cell_type": "code",
   "execution_count": 12,
   "id": "45b61b4a-be99-49d9-8ff3-312602aa43c2",
   "metadata": {},
   "outputs": [
    {
     "data": {
      "text/html": [
       "<div>\n",
       "<style scoped>\n",
       "    .dataframe tbody tr th:only-of-type {\n",
       "        vertical-align: middle;\n",
       "    }\n",
       "\n",
       "    .dataframe tbody tr th {\n",
       "        vertical-align: top;\n",
       "    }\n",
       "\n",
       "    .dataframe thead th {\n",
       "        text-align: right;\n",
       "    }\n",
       "</style>\n",
       "<table border=\"1\" class=\"dataframe\">\n",
       "  <thead>\n",
       "    <tr style=\"text-align: right;\">\n",
       "      <th></th>\n",
       "      <th>count</th>\n",
       "      <th>mean</th>\n",
       "      <th>std</th>\n",
       "      <th>min</th>\n",
       "      <th>25%</th>\n",
       "      <th>50%</th>\n",
       "      <th>75%</th>\n",
       "      <th>max</th>\n",
       "    </tr>\n",
       "  </thead>\n",
       "  <tbody>\n",
       "    <tr>\n",
       "      <th>정류장수</th>\n",
       "      <td>448.0</td>\n",
       "      <td>434.633929</td>\n",
       "      <td>102.171019</td>\n",
       "      <td>173.0</td>\n",
       "      <td>363.5</td>\n",
       "      <td>456.0</td>\n",
       "      <td>497.0</td>\n",
       "      <td>601.0</td>\n",
       "    </tr>\n",
       "  </tbody>\n",
       "</table>\n",
       "</div>"
      ],
      "text/plain": [
       "      count        mean         std    min    25%    50%    75%    max\n",
       "정류장수  448.0  434.633929  102.171019  173.0  363.5  456.0  497.0  601.0"
      ]
     },
     "metadata": {},
     "output_type": "display_data"
    },
    {
     "name": "stderr",
     "output_type": "stream",
     "text": [
      "/Users/dkmoon/anaconda3/lib/python3.11/site-packages/seaborn/_oldcore.py:1119: FutureWarning: use_inf_as_na option is deprecated and will be removed in a future version. Convert inf values to NaN before operating instead.\n",
      "  with pd.option_context('mode.use_inf_as_na', True):\n"
     ]
    },
    {
     "data": {
      "image/png": "[encoded data removed]",
      "text/plain": [
       "<Figure size 1200x800 with 2 Axes>"
      ]
     },
     "metadata": {},
     "output_type": "display_data"
    }
   ],
   "source": [
    "eda_1_n(df,'정류장수')"
   ]
  },
  {
   "cell_type": "markdown",
   "id": "a4e3ec6e",
   "metadata": {},
   "source": [
    "### 2)"
   ]
  },
  {
   "cell_type": "code",
   "execution_count": 13,
   "id": "bf391815-bec9-43a8-8cc8-f2b1a71004cb",
   "metadata": {},
   "outputs": [
    {
     "data": {
      "text/html": [
       "<div>\n",
       "<style scoped>\n",
       "    .dataframe tbody tr th:only-of-type {\n",
       "        vertical-align: middle;\n",
       "    }\n",
       "\n",
       "    .dataframe tbody tr th {\n",
       "        vertical-align: top;\n",
       "    }\n",
       "\n",
       "    .dataframe thead th {\n",
       "        text-align: right;\n",
       "    }\n",
       "</style>\n",
       "<table border=\"1\" class=\"dataframe\">\n",
       "  <thead>\n",
       "    <tr style=\"text-align: right;\">\n",
       "      <th></th>\n",
       "      <th>count</th>\n",
       "      <th>mean</th>\n",
       "      <th>std</th>\n",
       "      <th>min</th>\n",
       "      <th>25%</th>\n",
       "      <th>50%</th>\n",
       "      <th>75%</th>\n",
       "      <th>max</th>\n",
       "    </tr>\n",
       "  </thead>\n",
       "  <tbody>\n",
       "    <tr>\n",
       "      <th>승하차총승객수</th>\n",
       "      <td>448.0</td>\n",
       "      <td>8.341980e+06</td>\n",
       "      <td>2.323003e+06</td>\n",
       "      <td>4702987.0</td>\n",
       "      <td>6822413.0</td>\n",
       "      <td>8227364.0</td>\n",
       "      <td>10028213.0</td>\n",
       "      <td>13557423.0</td>\n",
       "    </tr>\n",
       "  </tbody>\n",
       "</table>\n",
       "</div>"
      ],
      "text/plain": [
       "         count          mean           std        min        25%        50%  \\\n",
       "승하차총승객수  448.0  8.341980e+06  2.323003e+06  4702987.0  6822413.0  8227364.0   \n",
       "\n",
       "                75%         max  \n",
       "승하차총승객수  10028213.0  13557423.0  "
      ]
     },
     "metadata": {},
     "output_type": "display_data"
    },
    {
     "name": "stderr",
     "output_type": "stream",
     "text": [
      "/Users/dkmoon/anaconda3/lib/python3.11/site-packages/seaborn/_oldcore.py:1119: FutureWarning: use_inf_as_na option is deprecated and will be removed in a future version. Convert inf values to NaN before operating instead.\n",
      "  with pd.option_context('mode.use_inf_as_na', True):\n"
     ]
    },
    {
     "data": {
      "image/png": "[encoded data removed]",
      "text/plain": [
       "<Figure size 1200x800 with 2 Axes>"
      ]
     },
     "metadata": {},
     "output_type": "display_data"
    }
   ],
   "source": [
    "eda_1_n(df,'승하차총승객수')"
   ]
  },
  {
   "cell_type": "code",
   "execution_count": 14,
   "id": "f56c3e2b-203d-4217-a4e4-1412e192d885",
   "metadata": {},
   "outputs": [
    {
     "data": {
      "text/html": [
       "<div>\n",
       "<style scoped>\n",
       "    .dataframe tbody tr th:only-of-type {\n",
       "        vertical-align: middle;\n",
       "    }\n",
       "\n",
       "    .dataframe tbody tr th {\n",
       "        vertical-align: top;\n",
       "    }\n",
       "\n",
       "    .dataframe thead th {\n",
       "        text-align: right;\n",
       "    }\n",
       "</style>\n",
       "<table border=\"1\" class=\"dataframe\">\n",
       "  <thead>\n",
       "    <tr style=\"text-align: right;\">\n",
       "      <th></th>\n",
       "      <th>count</th>\n",
       "      <th>mean</th>\n",
       "      <th>std</th>\n",
       "      <th>min</th>\n",
       "      <th>25%</th>\n",
       "      <th>50%</th>\n",
       "      <th>75%</th>\n",
       "      <th>max</th>\n",
       "    </tr>\n",
       "  </thead>\n",
       "  <tbody>\n",
       "    <tr>\n",
       "      <th>정류장수</th>\n",
       "      <td>448.0</td>\n",
       "      <td>434.633929</td>\n",
       "      <td>102.171019</td>\n",
       "      <td>173.0</td>\n",
       "      <td>363.5</td>\n",
       "      <td>456.0</td>\n",
       "      <td>497.0</td>\n",
       "      <td>601.0</td>\n",
       "    </tr>\n",
       "  </tbody>\n",
       "</table>\n",
       "</div>"
      ],
      "text/plain": [
       "      count        mean         std    min    25%    50%    75%    max\n",
       "정류장수  448.0  434.633929  102.171019  173.0  363.5  456.0  497.0  601.0"
      ]
     },
     "metadata": {},
     "output_type": "display_data"
    },
    {
     "name": "stderr",
     "output_type": "stream",
     "text": [
      "/Users/dkmoon/anaconda3/lib/python3.11/site-packages/seaborn/_oldcore.py:1119: FutureWarning: use_inf_as_na option is deprecated and will be removed in a future version. Convert inf values to NaN before operating instead.\n",
      "  with pd.option_context('mode.use_inf_as_na', True):\n"
     ]
    },
    {
     "data": {
      "image/png": "[encoded data removed]",
      "text/plain": [
       "<Figure size 1200x800 with 2 Axes>"
      ]
     },
     "metadata": {},
     "output_type": "display_data"
    }
   ],
   "source": [
    "eda_1_n(df,'정류장수')"
   ]
  },
  {
   "cell_type": "markdown",
   "id": "a7193abc",
   "metadata": {},
   "source": [
    "### 3)"
   ]
  },
  {
   "cell_type": "code",
   "execution_count": null,
   "id": "6085084a-eaef-4e1d-a9e8-91dd0881e178",
   "metadata": {},
   "outputs": [],
   "source": [
    "eda_1_n(df,'요식업 종사자 수')"
   ]
  },
  {
   "cell_type": "code",
   "execution_count": 16,
   "id": "0331e209-2621-45bd-9c9e-e7fb7ada0bc7",
   "metadata": {},
   "outputs": [
    {
     "data": {
      "text/html": [
       "<div>\n",
       "<style scoped>\n",
       "    .dataframe tbody tr th:only-of-type {\n",
       "        vertical-align: middle;\n",
       "    }\n",
       "\n",
       "    .dataframe tbody tr th {\n",
       "        vertical-align: top;\n",
       "    }\n",
       "\n",
       "    .dataframe thead th {\n",
       "        text-align: right;\n",
       "    }\n",
       "</style>\n",
       "<table border=\"1\" class=\"dataframe\">\n",
       "  <thead>\n",
       "    <tr style=\"text-align: right;\">\n",
       "      <th></th>\n",
       "      <th>count</th>\n",
       "      <th>mean</th>\n",
       "      <th>std</th>\n",
       "      <th>min</th>\n",
       "      <th>25%</th>\n",
       "      <th>50%</th>\n",
       "      <th>75%</th>\n",
       "      <th>max</th>\n",
       "    </tr>\n",
       "  </thead>\n",
       "  <tbody>\n",
       "    <tr>\n",
       "      <th>총 이동인구</th>\n",
       "      <td>448.0</td>\n",
       "      <td>2.645231e+07</td>\n",
       "      <td>1.152614e+07</td>\n",
       "      <td>12184123.01</td>\n",
       "      <td>19948674.26</td>\n",
       "      <td>21475019.31</td>\n",
       "      <td>29571318.3</td>\n",
       "      <td>61257224.24</td>\n",
       "    </tr>\n",
       "  </tbody>\n",
       "</table>\n",
       "</div>"
      ],
      "text/plain": [
       "        count          mean           std          min          25%  \\\n",
       "총 이동인구  448.0  2.645231e+07  1.152614e+07  12184123.01  19948674.26   \n",
       "\n",
       "                50%         75%          max  \n",
       "총 이동인구  21475019.31  29571318.3  61257224.24  "
      ]
     },
     "metadata": {},
     "output_type": "display_data"
    },
    {
     "name": "stderr",
     "output_type": "stream",
     "text": [
      "/Users/dkmoon/anaconda3/lib/python3.11/site-packages/seaborn/_oldcore.py:1119: FutureWarning: use_inf_as_na option is deprecated and will be removed in a future version. Convert inf values to NaN before operating instead.\n",
      "  with pd.option_context('mode.use_inf_as_na', True):\n"
     ]
    },
    {
     "data": {
      "image/png": "[encoded data removed]",
      "text/plain": [
       "<Figure size 1200x800 with 2 Axes>"
      ]
     },
     "metadata": {},
     "output_type": "display_data"
    }
   ],
   "source": [
    "eda_1_n(df,'총 이동인구')"
   ]
  },
  {
   "cell_type": "markdown",
   "id": "ac81d719",
   "metadata": {},
   "source": [
    "## 3. 이변량 분석\n",
    "\n",
    "* 자료의 종류에 맞게 X -> Y 에 대해서 그래프(시각화)와 가설검정(수치화)를 수행하고 결과를 평가\n",
    "\n",
    "* 가설검정시 다음의 항목을 참조하여 수행\n",
    "    * 유의수준 : 5%\n",
    "    * 숫자 --> 숫자 : 상관분석\n",
    "    * 범주 --> 범주 : 카이제곱검정\n",
    "    * 범주 --> 숫자 : t검정, 분산분석\n",
    "    * 숫자 --> 범주 : 로지스틱 회귀모형을 통해, 회귀계수의 P.value로 검정을 수행합니다.\n",
    "    \n",
    "상관계수 (우리가 배운 기준)\n",
    "- 0.5 ~ 1 : 강한\n",
    "- 0.2 ~ 0.5 : 중간\n",
    "- 0.1 ~ 0.2 : 약간\n",
    "- 0 ~ 0.1 : 없음\n",
    "- 음수 똑같음 \n",
    "\n",
    "p-value 기준을 0.05 -> 5%\n",
    "p-value가 0.05보다 크다 == 귀무가설을 기각 하지 못한다 == 대립가설이 틀렸다(우리가 원하는 바는 대립가설)\n",
    "\n",
    "- 귀무가설을 기각하려면 우리가 싫어하는 귀무가설을 입증할 증거가 나올 확률이 5% 이하여야 함\n",
    "- p-value가 그 귀무가설을 입증할 증거가 나올 확률을 의미함\n"
   ]
  },
  {
   "cell_type": "code",
   "execution_count": 17,
   "id": "24ce6d8b-f2d3-456a-b1b7-63f57df62cfe",
   "metadata": {},
   "outputs": [],
   "source": [
    "def displayScatter(data, x, y):\n",
    "    plt.scatter(x, y, data = data)\n",
    "    plt.grid()\n",
    "    plt.xlabel(x)\n",
    "    plt.ylabel(y)\n",
    "    plt.show()"
   ]
  },
  {
   "cell_type": "markdown",
   "id": "a1ef2391",
   "metadata": {},
   "source": [
    "### 1)"
   ]
  },
  {
   "cell_type": "code",
   "execution_count": 18,
   "id": "58f180e5-7303-4ca7-90ee-7ca481d13131",
   "metadata": {},
   "outputs": [
    {
     "data": {
      "image/png": "[encoded data removed]",
      "text/plain": [
       "<Figure size 640x480 with 1 Axes>"
      ]
     },
     "metadata": {},
     "output_type": "display_data"
    }
   ],
   "source": [
    "displayScatter(df, '인구', '정류장수')"
   ]
  },
  {
   "cell_type": "markdown",
   "id": "9a7f6c08",
   "metadata": {},
   "source": [
    "### 2)"
   ]
  },
  {
   "cell_type": "code",
   "execution_count": 19,
   "id": "b7d3f811-29a7-40b7-8ed7-96e56ef29471",
   "metadata": {},
   "outputs": [
    {
     "data": {
      "image/png": "[encoded data removed]",
      "text/plain": [
       "<Figure size 640x480 with 1 Axes>"
      ]
     },
     "metadata": {},
     "output_type": "display_data"
    }
   ],
   "source": [
    "displayScatter(df, '승하차총승객수', '정류장수')"
   ]
  },
  {
   "cell_type": "markdown",
   "id": "3e09f869",
   "metadata": {},
   "source": [
    "### 3)"
   ]
  },
  {
   "cell_type": "code",
   "execution_count": null,
   "id": "028bc62f-340e-4c07-9ca0-11f72705750b",
   "metadata": {},
   "outputs": [],
   "source": [
    "displayScatter(df,'요식업 종사자 수', '총 이동인구')"
   ]
  },
  {
   "cell_type": "markdown",
   "id": "1d3f065b",
   "metadata": {},
   "source": [
    "### HeatMap을 이용한 상관관계 분석"
   ]
  },
  {
   "cell_type": "code",
   "execution_count": 20,
   "id": "4e41b8d9",
   "metadata": {
    "tags": []
   },
   "outputs": [],
   "source": [
    "# 아래에 실습코드를 작성하고 상관계수를 확인 및 시각화 합니다.\n",
    "import scipy.stats as spst"
   ]
  },
  {
   "cell_type": "markdown",
   "id": "17a4e3a3-3eb2-4b37-811f-ab17e8f31128",
   "metadata": {},
   "source": [
    "### 1)"
   ]
  },
  {
   "cell_type": "code",
   "execution_count": 21,
   "id": "65d37e79-8ff8-4b81-96f4-b57389d17920",
   "metadata": {},
   "outputs": [
    {
     "data": {
      "text/plain": [
       "PearsonRResult(statistic=0.5884132475828616, pvalue=4.4186048536225406e-43)"
      ]
     },
     "execution_count": 21,
     "metadata": {},
     "output_type": "execute_result"
    }
   ],
   "source": [
    "spst.pearsonr(df['인구'],df['정류장수'])"
   ]
  },
  {
   "cell_type": "markdown",
   "id": "0ad8b3ce-1748-4490-a39e-e10df8e95234",
   "metadata": {},
   "source": [
    "### 2)"
   ]
  },
  {
   "cell_type": "code",
   "execution_count": 22,
   "id": "d44c3652-9a93-4122-95b4-c4d8eaf31f6f",
   "metadata": {},
   "outputs": [
    {
     "data": {
      "text/plain": [
       "PearsonRResult(statistic=0.5819166698253431, pvalue=5.88646335559821e-42)"
      ]
     },
     "execution_count": 22,
     "metadata": {},
     "output_type": "execute_result"
    }
   ],
   "source": [
    "spst.pearsonr(df['승하차총승객수'],df['정류장수'])"
   ]
  },
  {
   "cell_type": "markdown",
   "id": "6b387f3b-67f5-4a1e-9761-80ec6ed3b88e",
   "metadata": {},
   "source": [
    "### 3)"
   ]
  },
  {
   "cell_type": "code",
   "execution_count": null,
   "id": "bdfedae2-ee18-4768-b84c-e70f26706607",
   "metadata": {},
   "outputs": [],
   "source": [
    "spst.pearsonr(df['요식업 종사자 수'],df['총 이동인구'])"
   ]
  },
  {
   "cell_type": "code",
   "execution_count": null,
   "id": "527eb04c-791a-4692-b702-7d4e8b00384e",
   "metadata": {
    "tags": []
   },
   "outputs": [],
   "source": [
    "temp = df.drop(['도착 시군구 코드', '자치구'], axis=1)\n",
    "temp.corr()"
   ]
  },
  {
   "cell_type": "code",
   "execution_count": null,
   "id": "269c049e",
   "metadata": {
    "tags": []
   },
   "outputs": [],
   "source": [
    "# 아래에 실습코드를 작성하고 상관계수를 확인 및 시각화 합니다.\n",
    "plt.figure(figsize = (15, 15))\n",
    "sns.heatmap(temp.corr(), \n",
    "            annot = True,            # 숫자(상관계수) 표기 여부\n",
    "            fmt = '.3f',             # 숫자 포멧 : 소수점 3자리까지 표기\n",
    "            cmap = 'RdYlBu_r',       # 칼라맵\n",
    "            vmin = -1, vmax = 1)     # 값의 최소, 최대값\n",
    "plt.show()"
   ]
  },
  {
   "cell_type": "code",
   "execution_count": 25,
   "id": "100b24d7",
   "metadata": {},
   "outputs": [],
   "source": [
    "# 위 차트를 통해 알게된 사실을 정리해봅시다.\n",
    "# 1. X. 인구수 -> Y. 정류장 수에는 중간 정도의 상관관계가 있다\n",
    "# 2. X. 승하차 총 승객수(승차+하차 총승객수) -> Y. 정류장수에는 중간 정도의 상관관계가 있다\n",
    "# 3. X. 요식업 종사자 수 -> Y. 총 이동인구는 밀접한 상관관계가 있다."
   ]
  },
  {
   "cell_type": "code",
   "execution_count": null,
   "id": "4c8afcad",
   "metadata": {},
   "outputs": [],
   "source": [
    "df[\"정류장수/총승객\"] = df[\"정류장수\"] / df[\"승하차총승객수\"]\n",
    "df[\"정류장수/인구수\"] = df[\"정류장수\"] / df[\"인구\"]\n",
    "df[\"정류장수/총승객-정류장수/인구수\"] = df[\"정류장수/총승객\"] - df[\"정류장수/인구수\"]\n",
    "\n",
    "df['총이동인구/요식업종사자수'] = df['총 이동인구'] / df['요식업 종사자 수']\n",
    "df"
   ]
  },
  {
   "cell_type": "markdown",
   "id": "20e08293",
   "metadata": {},
   "source": [
    "## 4.관계 정리"
   ]
  },
  {
   "cell_type": "markdown",
   "id": "b11433ac",
   "metadata": {},
   "source": [
    "### 1) 강한 관계의 변수"
   ]
  },
  {
   "cell_type": "markdown",
   "id": "ae622498",
   "metadata": {},
   "source": [
    "- 요식업 종사자 수 / 총 이동인구\n",
    "- 인구 / 이동인구\n",
    "- 승하차 총 승객수 / 정류장수\n",
    "- 평균 이동시간(분) / 노선수"
   ]
  },
  {
   "cell_type": "markdown",
   "id": "3101b64b",
   "metadata": {},
   "source": [
    "### 2) 약한 관계의 변수"
   ]
  },
  {
   "cell_type": "markdown",
   "id": "7a7f579d",
   "metadata": {},
   "source": [
    "- 승하차총승객수 / 평균 이동 시간(분)\n",
    "- 요식업 종사자 수  / 평균 이동 시간(분)"
   ]
  },
  {
   "cell_type": "markdown",
   "id": "644198b7",
   "metadata": {},
   "source": [
    "## 5.솔루션 도출\n",
    "\n",
    "### 어느 구에 버스 노선 또는 정류장이 제일 필요한가요? 그 이유는 무엇일까요?\n",
    "### 조원들과 상의해서 각자의 인사이트를 도출하고 발표자료를 만들어보세요."
   ]
  },
  {
   "cell_type": "markdown",
   "id": "783e8346",
   "metadata": {},
   "source": [
    "1. 두개의 관계를 도출한것을 종합하여 구별 인구와 정류장수의 상관계수(가설1)가 구별 승하차 인구와 정류장수의 상관계수(가설2)보다 높다.(하지만 차이는 미미하다..)\n",
    "이 수치는 현재 승하차 인원보다는 구별 인구 기준으로 정류장이 설치되어있을 가능성을 제시하고 있다.\n",
    "인구보다는 실제 승하차 인원 기준으로 정류장을 세워야 한다.\n",
    "\"정류장수/총승객-정류장수/인구수\"열을 통해 교통 실수요를 측정하고 실수요 대비 정류장이 부족한 구를 우선 추천한다\n",
    "정류장수/총승객수-정류장수/인구수 가 가장 작은 종로구, 마포구 성동구에 신규 정류장 추천\n",
    "\n",
    "2. 가설 3는 '총이동인구/요식업종사자수'를 통해 요식업 종사자 수보다 이동하는 인구의 비율이 다른 곳보다 많다면 비교적 붐빈다는 것을 알 수 있고 큰 비율을 가지고 있는 '노원구', '강동구'에 신규 노선을 추천"
   ]
  }
 ],
 "metadata": {
  "colab": {
   "collapsed_sections": [],
   "name": "서울버스수요분석 데이터 분석(EDA)_ver0.1.ipynb",
   "provenance": [],
   "toc_visible": true
  },
  "kernelspec": {
   "display_name": "Python 3 (ipykernel)",
   "language": "python",
   "name": "python3"
  },
  "language_info": {
   "codemirror_mode": {
    "name": "ipython",
    "version": 3
   },
   "file_extension": ".py",
   "mimetype": "text/x-python",
   "name": "python",
   "nbconvert_exporter": "python",
   "pygments_lexer": "ipython3",
   "version": "3.11.5"
  },
  "vscode": {
   "interpreter": {
    "hash": "f08154012ddadd8e950e6e9e035c7a7b32c136e7647e9b7c77e02eb723a8bedb"
   }
  }
 },
 "nbformat": 4,
 "nbformat_minor": 5
}
