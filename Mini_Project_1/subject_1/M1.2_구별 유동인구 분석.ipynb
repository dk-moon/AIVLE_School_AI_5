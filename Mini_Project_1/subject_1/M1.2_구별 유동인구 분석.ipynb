{
 "cells": [
  {
   "cell_type": "markdown",
   "id": "boxed-jamaica",
   "metadata": {},
   "source": [
    "# 서울시 생활정보 기반 대중교통 수요 분석 프로젝트"
   ]
  },
  {
   "cell_type": "markdown",
   "id": "ef575059",
   "metadata": {},
   "source": [
    "---"
   ]
  },
  {
   "cell_type": "markdown",
   "id": "f2bc4fa5",
   "metadata": {},
   "source": [
    "## Step 2. 데이터 분석 - 구별 유동인구 데이터"
   ]
  },
  {
   "cell_type": "markdown",
   "id": "revolutionary-farmer",
   "metadata": {},
   "source": [
    "[기본 데이터]\n",
    "* seoul_moving_month_202401.csv\n",
    "\n",
    "[데이터 소개]\n",
    "* 서울 시 구별 이동 2024년 1월 데이터\n",
    "* https://data.seoul.go.kr/dataVisual/seoul/seoulLivingMigration.do\n",
    "\n",
    "[변수 소개]\n",
    "* 도착시간 : 0 -> \"0:00~0:59\"를 의미 \n",
    "* 출발 자치구 : 자치구 코드\n",
    "* 성별 : F(여성), M(남성)\n",
    "* 나이 : 10 ~ 79세 (5세 단위), 0 ~ 10세, 80세 이상으로 구분\n",
    "* 유형 : H(야간상주지), W(주간상주지), E(기타)\n",
    "* 평균 이동 시간 : 동일 열 내 이동인구의 월 단위 평균 이동 시간 (10분단위)\n",
    "* 이동인구 : 추정 합산값으로 소수점 표출, 개인정보 비식별화를 위해 3명 미만의 경우 * 처리"
   ]
  },
  {
   "cell_type": "markdown",
   "id": "matched-broad",
   "metadata": {},
   "source": [
    "---"
   ]
  },
  {
   "cell_type": "markdown",
   "id": "warming-gentleman",
   "metadata": {},
   "source": [
    "## Step 2.1.데이터 불러오기"
   ]
  },
  {
   "cell_type": "markdown",
   "id": "measured-administration",
   "metadata": {},
   "source": [
    "####  데이터 프레임을 불러오고 변수로 저장(여기서는 CSV 기준으로 진행)\n",
    "* csv : pd.read_csv(\"파일이름. csv\")\n",
    "* txt : pd.read_csv(\"파일이름. csv\", sep=\"구분자\")\n",
    "* xlsx : pd.read_excel('파일이름.xlsx')\n",
    "* pickle : pd.read_pickle(\"파일이름.pkl\") <br>\n",
    " [참고] pickle은 파이썬의 모든 객체를 파일로 저장할 수 있는 방법으로 DataFrame,List,Dict 등 모든 객체 저장 가능(특히 sklearn라이브러리를 통해 모델을 학습시키고, 저장할 때 많이 사용)"
   ]
  },
  {
   "cell_type": "markdown",
   "id": "vocational-animal",
   "metadata": {},
   "source": [
    "#### 데이터 로딩\n",
    "* Pandas 라이브러리를 활용해서 'seoul_moving_month_202401.csv' 데이터를 확인하세요.\n",
    "    * 아래에 'Pandas'를 Import하고 'seoul_moving_month_202401.csv'파일을 'seoul_moving'에 불러오고,  Shape을 확인하는 소스코드를 작성하고 실행해보세요.\n",
    "    * 데이터 파일 로딩시 참고 사항 \n",
    "        * 구분자(sep)는 ',' 입니다\n",
    "        * UTF-8 인코더를 사용해 주세요"
   ]
  },
  {
   "cell_type": "code",
   "execution_count": 1,
   "id": "saving-slope",
   "metadata": {},
   "outputs": [],
   "source": [
    "import pandas as pd\n",
    "\n",
    "seoul_moving = pd.read_csv('./1.2 seoul_moving_month_202401.csv',sep=\",\", encoding = 'UTF-8')"
   ]
  },
  {
   "cell_type": "code",
   "execution_count": 2,
   "id": "funny-subcommittee",
   "metadata": {},
   "outputs": [
    {
     "data": {
      "text/plain": [
       "(29361031, 10)"
      ]
     },
     "execution_count": 2,
     "metadata": {},
     "output_type": "execute_result"
    }
   ],
   "source": [
    "# 데이터 프레임의 Shape 확인\n",
    "seoul_moving.shape"
   ]
  },
  {
   "cell_type": "markdown",
   "id": "73396b42",
   "metadata": {},
   "source": [
    "---"
   ]
  },
  {
   "cell_type": "markdown",
   "id": "annoying-trout",
   "metadata": {},
   "source": [
    "## Step 2.2.기본 정보 확인 및 클렌징\n",
    "\n",
    "+ 데이터 클렌징 : 결측치, 이상치 등을 제거하여 데이터 분석 결과가 왜곡 되는 문제를 방지하기 위한 정제 과정"
   ]
  },
  {
   "cell_type": "markdown",
   "id": "romantic-johnson",
   "metadata": {},
   "source": [
    "#### 기본 정보 확인\n",
    "* 'seoul_moving' 데이터의 정보를 확인해보세요.\n",
    "* 'describe', 'info', 'head' 등 전부 활용해 보겠습니다."
   ]
  },
  {
   "cell_type": "code",
   "execution_count": 3,
   "id": "demographic-battery",
   "metadata": {},
   "outputs": [
    {
     "data": {
      "text/html": [
       "<div>\n",
       "<style scoped>\n",
       "    .dataframe tbody tr th:only-of-type {\n",
       "        vertical-align: middle;\n",
       "    }\n",
       "\n",
       "    .dataframe tbody tr th {\n",
       "        vertical-align: top;\n",
       "    }\n",
       "\n",
       "    .dataframe thead th {\n",
       "        text-align: right;\n",
       "    }\n",
       "</style>\n",
       "<table border=\"1\" class=\"dataframe\">\n",
       "  <thead>\n",
       "    <tr style=\"text-align: right;\">\n",
       "      <th></th>\n",
       "      <th>대상연월</th>\n",
       "      <th>도착시간</th>\n",
       "      <th>출발 시군구 코드</th>\n",
       "      <th>도착 시군구 코드</th>\n",
       "      <th>나이</th>\n",
       "      <th>평균 이동 시간(분)</th>\n",
       "    </tr>\n",
       "  </thead>\n",
       "  <tbody>\n",
       "    <tr>\n",
       "      <th>count</th>\n",
       "      <td>29361031.0</td>\n",
       "      <td>2.936103e+07</td>\n",
       "      <td>2.936103e+07</td>\n",
       "      <td>2.936103e+07</td>\n",
       "      <td>2.936103e+07</td>\n",
       "      <td>2.936103e+07</td>\n",
       "    </tr>\n",
       "    <tr>\n",
       "      <th>mean</th>\n",
       "      <td>202401.0</td>\n",
       "      <td>1.362194e+01</td>\n",
       "      <td>1.710538e+04</td>\n",
       "      <td>1.718123e+04</td>\n",
       "      <td>4.285979e+01</td>\n",
       "      <td>9.366626e+01</td>\n",
       "    </tr>\n",
       "    <tr>\n",
       "      <th>std</th>\n",
       "      <td>0.0</td>\n",
       "      <td>5.835017e+00</td>\n",
       "      <td>9.024981e+03</td>\n",
       "      <td>9.037102e+03</td>\n",
       "      <td>1.799456e+01</td>\n",
       "      <td>7.803316e+01</td>\n",
       "    </tr>\n",
       "    <tr>\n",
       "      <th>min</th>\n",
       "      <td>202401.0</td>\n",
       "      <td>0.000000e+00</td>\n",
       "      <td>1.101000e+04</td>\n",
       "      <td>1.101000e+04</td>\n",
       "      <td>0.000000e+00</td>\n",
       "      <td>1.000000e+00</td>\n",
       "    </tr>\n",
       "    <tr>\n",
       "      <th>25%</th>\n",
       "      <td>202401.0</td>\n",
       "      <td>1.000000e+01</td>\n",
       "      <td>1.110000e+04</td>\n",
       "      <td>1.111000e+04</td>\n",
       "      <td>3.000000e+01</td>\n",
       "      <td>4.900000e+01</td>\n",
       "    </tr>\n",
       "    <tr>\n",
       "      <th>50%</th>\n",
       "      <td>202401.0</td>\n",
       "      <td>1.400000e+01</td>\n",
       "      <td>1.120000e+04</td>\n",
       "      <td>1.120000e+04</td>\n",
       "      <td>4.000000e+01</td>\n",
       "      <td>7.400000e+01</td>\n",
       "    </tr>\n",
       "    <tr>\n",
       "      <th>75%</th>\n",
       "      <td>202401.0</td>\n",
       "      <td>1.800000e+01</td>\n",
       "      <td>3.101400e+04</td>\n",
       "      <td>3.101400e+04</td>\n",
       "      <td>5.500000e+01</td>\n",
       "      <td>1.120000e+02</td>\n",
       "    </tr>\n",
       "    <tr>\n",
       "      <th>max</th>\n",
       "      <td>202401.0</td>\n",
       "      <td>2.300000e+01</td>\n",
       "      <td>3.900000e+04</td>\n",
       "      <td>3.900000e+04</td>\n",
       "      <td>8.000000e+01</td>\n",
       "      <td>4.462000e+03</td>\n",
       "    </tr>\n",
       "  </tbody>\n",
       "</table>\n",
       "</div>"
      ],
      "text/plain": [
       "             대상연월          도착시간     출발 시군구 코드     도착 시군구 코드            나이  \\\n",
       "count  29361031.0  2.936103e+07  2.936103e+07  2.936103e+07  2.936103e+07   \n",
       "mean     202401.0  1.362194e+01  1.710538e+04  1.718123e+04  4.285979e+01   \n",
       "std           0.0  5.835017e+00  9.024981e+03  9.037102e+03  1.799456e+01   \n",
       "min      202401.0  0.000000e+00  1.101000e+04  1.101000e+04  0.000000e+00   \n",
       "25%      202401.0  1.000000e+01  1.110000e+04  1.111000e+04  3.000000e+01   \n",
       "50%      202401.0  1.400000e+01  1.120000e+04  1.120000e+04  4.000000e+01   \n",
       "75%      202401.0  1.800000e+01  3.101400e+04  3.101400e+04  5.500000e+01   \n",
       "max      202401.0  2.300000e+01  3.900000e+04  3.900000e+04  8.000000e+01   \n",
       "\n",
       "        평균 이동 시간(분)  \n",
       "count  2.936103e+07  \n",
       "mean   9.366626e+01  \n",
       "std    7.803316e+01  \n",
       "min    1.000000e+00  \n",
       "25%    4.900000e+01  \n",
       "50%    7.400000e+01  \n",
       "75%    1.120000e+02  \n",
       "max    4.462000e+03  "
      ]
     },
     "execution_count": 3,
     "metadata": {},
     "output_type": "execute_result"
    }
   ],
   "source": [
    "# describe()\n",
    "seoul_moving.describe()"
   ]
  },
  {
   "cell_type": "code",
   "execution_count": 4,
   "id": "940a114a",
   "metadata": {},
   "outputs": [
    {
     "name": "stdout",
     "output_type": "stream",
     "text": [
      "<class 'pandas.core.frame.DataFrame'>\n",
      "RangeIndex: 29361031 entries, 0 to 29361030\n",
      "Data columns (total 10 columns):\n",
      " #   Column       Dtype \n",
      "---  ------       ----- \n",
      " 0   대상연월         int64 \n",
      " 1   요일           object\n",
      " 2   도착시간         int64 \n",
      " 3   출발 시군구 코드    int64 \n",
      " 4   도착 시군구 코드    int64 \n",
      " 5   성별           object\n",
      " 6   나이           int64 \n",
      " 7   이동유형         object\n",
      " 8   평균 이동 시간(분)  int64 \n",
      " 9   이동인구(합)      object\n",
      "dtypes: int64(6), object(4)\n",
      "memory usage: 2.2+ GB\n"
     ]
    }
   ],
   "source": [
    "# info()\n",
    "seoul_moving.info()"
   ]
  },
  {
   "cell_type": "code",
   "execution_count": 5,
   "id": "7343fadf",
   "metadata": {},
   "outputs": [
    {
     "data": {
      "text/html": [
       "<div>\n",
       "<style scoped>\n",
       "    .dataframe tbody tr th:only-of-type {\n",
       "        vertical-align: middle;\n",
       "    }\n",
       "\n",
       "    .dataframe tbody tr th {\n",
       "        vertical-align: top;\n",
       "    }\n",
       "\n",
       "    .dataframe thead th {\n",
       "        text-align: right;\n",
       "    }\n",
       "</style>\n",
       "<table border=\"1\" class=\"dataframe\">\n",
       "  <thead>\n",
       "    <tr style=\"text-align: right;\">\n",
       "      <th></th>\n",
       "      <th>대상연월</th>\n",
       "      <th>요일</th>\n",
       "      <th>도착시간</th>\n",
       "      <th>출발 시군구 코드</th>\n",
       "      <th>도착 시군구 코드</th>\n",
       "      <th>성별</th>\n",
       "      <th>나이</th>\n",
       "      <th>이동유형</th>\n",
       "      <th>평균 이동 시간(분)</th>\n",
       "      <th>이동인구(합)</th>\n",
       "    </tr>\n",
       "  </thead>\n",
       "  <tbody>\n",
       "    <tr>\n",
       "      <th>0</th>\n",
       "      <td>202401</td>\n",
       "      <td>일</td>\n",
       "      <td>0</td>\n",
       "      <td>11010</td>\n",
       "      <td>11010</td>\n",
       "      <td>F</td>\n",
       "      <td>0</td>\n",
       "      <td>EE</td>\n",
       "      <td>20</td>\n",
       "      <td>28.06</td>\n",
       "    </tr>\n",
       "    <tr>\n",
       "      <th>1</th>\n",
       "      <td>202401</td>\n",
       "      <td>일</td>\n",
       "      <td>0</td>\n",
       "      <td>11010</td>\n",
       "      <td>11010</td>\n",
       "      <td>F</td>\n",
       "      <td>10</td>\n",
       "      <td>EE</td>\n",
       "      <td>167</td>\n",
       "      <td>11.96</td>\n",
       "    </tr>\n",
       "    <tr>\n",
       "      <th>2</th>\n",
       "      <td>202401</td>\n",
       "      <td>일</td>\n",
       "      <td>0</td>\n",
       "      <td>11010</td>\n",
       "      <td>11010</td>\n",
       "      <td>F</td>\n",
       "      <td>10</td>\n",
       "      <td>EH</td>\n",
       "      <td>203</td>\n",
       "      <td>17.63</td>\n",
       "    </tr>\n",
       "    <tr>\n",
       "      <th>3</th>\n",
       "      <td>202401</td>\n",
       "      <td>일</td>\n",
       "      <td>0</td>\n",
       "      <td>11010</td>\n",
       "      <td>11010</td>\n",
       "      <td>F</td>\n",
       "      <td>10</td>\n",
       "      <td>HE</td>\n",
       "      <td>23</td>\n",
       "      <td>5.96</td>\n",
       "    </tr>\n",
       "    <tr>\n",
       "      <th>4</th>\n",
       "      <td>202401</td>\n",
       "      <td>일</td>\n",
       "      <td>0</td>\n",
       "      <td>11010</td>\n",
       "      <td>11010</td>\n",
       "      <td>F</td>\n",
       "      <td>10</td>\n",
       "      <td>WH</td>\n",
       "      <td>27</td>\n",
       "      <td>5.90</td>\n",
       "    </tr>\n",
       "  </tbody>\n",
       "</table>\n",
       "</div>"
      ],
      "text/plain": [
       "     대상연월 요일  도착시간  출발 시군구 코드  도착 시군구 코드 성별  나이 이동유형  평균 이동 시간(분) 이동인구(합)\n",
       "0  202401  일     0      11010      11010  F   0   EE           20   28.06\n",
       "1  202401  일     0      11010      11010  F  10   EE          167   11.96\n",
       "2  202401  일     0      11010      11010  F  10   EH          203   17.63\n",
       "3  202401  일     0      11010      11010  F  10   HE           23    5.96\n",
       "4  202401  일     0      11010      11010  F  10   WH           27    5.90"
      ]
     },
     "execution_count": 5,
     "metadata": {},
     "output_type": "execute_result"
    }
   ],
   "source": [
    "# head()\n",
    "seoul_moving.head()"
   ]
  },
  {
   "cell_type": "markdown",
   "id": "b90fd066",
   "metadata": {},
   "source": [
    "* 1번 열의 의미\n",
    "    * \" 2024년 1월 일요일에 11010(종로구)에서 11010(종로구)으로 이동하여 0시 ~ 0시 59분 사이에 도착했고, E(기타)에서 E(기타)로 이동한 10 ~ 15세 여성은 총 11.96명이며 이들의 평균 이동시간은 167분이다\n"
   ]
  },
  {
   "cell_type": "markdown",
   "id": "003322b3",
   "metadata": {},
   "source": [
    "#### 결측치 처리 ( NaN이 아닌 결측치를 처리 해봅시다)\n",
    "\n",
    "* '이동인구(합)' column은 이동 인구의 합산인데 object 타입\n",
    "    - Why?\n",
    "    - Tip! (이동인구 : 추정 합산값으로 소수점 표출, 개인정보 비식별화를 위해 3명 미만의 경우 * 처리)\n",
    "    - 3명 미만의 이동인구는 * 처리 되어 있어서 해당 값을 나름의 기준으로 변경하세요.(중위값)\n",
    "    - '이동인구(합)' 컬럼의 데이터 타입을 수치형으로 변경하세요 "
   ]
  },
  {
   "cell_type": "code",
   "execution_count": 6,
   "id": "64977ed3",
   "metadata": {},
   "outputs": [
    {
     "data": {
      "text/plain": [
       "이동인구(합)\n",
       "*          3870174\n",
       "6.05        420734\n",
       "3.30        397265\n",
       "3.29        286071\n",
       "3.31        234821\n",
       "            ...   \n",
       "1617.95          1\n",
       "2414.11          1\n",
       "1499.98          1\n",
       "1478.45          1\n",
       "689.93           1\n",
       "Name: count, Length: 140404, dtype: int64"
      ]
     },
     "execution_count": 6,
     "metadata": {},
     "output_type": "execute_result"
    }
   ],
   "source": [
    "# value_counts()\n",
    "seoul_moving['이동인구(합)'].value_counts()"
   ]
  },
  {
   "cell_type": "code",
   "execution_count": 7,
   "id": "703fc8b7",
   "metadata": {},
   "outputs": [
    {
     "name": "stderr",
     "output_type": "stream",
     "text": [
      "/var/folders/b4/30fgt7y52l55b_6smxmlmffw0000gn/T/ipykernel_21332/3965662507.py:3: FutureWarning: A value is trying to be set on a copy of a DataFrame or Series through chained assignment using an inplace method.\n",
      "The behavior will change in pandas 3.0. This inplace method will never work because the intermediate object on which we are setting values always behaves as a copy.\n",
      "\n",
      "For example, when doing 'df[col].method(value, inplace=True)', try using 'df.method({col: value}, inplace=True)' or df[col] = df[col].method(value) instead, to perform the operation inplace on the original object.\n",
      "\n",
      "\n",
      "  seoul_moving['이동인구(합)'].replace('*', replacement_value, inplace=True)\n"
     ]
    }
   ],
   "source": [
    "# '*' 값의 최빈값과 평균값을 알 수 없는 상황이라 중위값으로 대체 (1.5명)\n",
    "replacement_value = 1.5\n",
    "seoul_moving['이동인구(합)'].replace('*', replacement_value, inplace=True)"
   ]
  },
  {
   "cell_type": "code",
   "execution_count": 8,
   "id": "3ec3c54b",
   "metadata": {
    "tags": []
   },
   "outputs": [],
   "source": [
    "# 이동인구(합) column의 데이터 타입 변경\n",
    "# astype()\n",
    "seoul_moving['이동인구(합)'] = seoul_moving['이동인구(합)'].astype(float)"
   ]
  },
  {
   "cell_type": "markdown",
   "id": "3666e46c",
   "metadata": {},
   "source": [
    "#### 이동유형, 요일, 성별 변수의 value수를 파악"
   ]
  },
  {
   "cell_type": "code",
   "execution_count": 9,
   "id": "3cd0103e",
   "metadata": {},
   "outputs": [
    {
     "data": {
      "text/plain": [
       "이동유형\n",
       "EH    5947038\n",
       "HE    5585412\n",
       "EE    5224553\n",
       "WH    3078348\n",
       "WE    2759477\n",
       "HW    2700535\n",
       "EW    2330931\n",
       "WW    1082641\n",
       "HH     652096\n",
       "Name: count, dtype: int64"
      ]
     },
     "execution_count": 9,
     "metadata": {},
     "output_type": "execute_result"
    }
   ],
   "source": [
    "# 이동유형, value_counts()\n",
    "seoul_moving['이동유형'].value_counts()"
   ]
  },
  {
   "cell_type": "code",
   "execution_count": 10,
   "id": "1cdd246f",
   "metadata": {},
   "outputs": [
    {
     "data": {
      "text/plain": [
       "요일\n",
       "월    4448237\n",
       "수    4341429\n",
       "화    4300070\n",
       "토    4254525\n",
       "금    4251430\n",
       "목    4005959\n",
       "일    3759381\n",
       "Name: count, dtype: int64"
      ]
     },
     "execution_count": 10,
     "metadata": {},
     "output_type": "execute_result"
    }
   ],
   "source": [
    "# 요일, value_counts()\n",
    "seoul_moving['요일'].value_counts()"
   ]
  },
  {
   "cell_type": "markdown",
   "id": "ba257395",
   "metadata": {},
   "source": [
    "* 24년 1월의 요일 수를 알려드릴게요\n",
    "    * 일 : 4, 월 : 5, 화 : 5, 수 : 5, 목 : 4, 금 : 4, 토 : 4"
   ]
  },
  {
   "cell_type": "code",
   "execution_count": 11,
   "id": "c3f440b9",
   "metadata": {},
   "outputs": [
    {
     "data": {
      "text/plain": [
       "성별\n",
       "M    16433525\n",
       "F    12927506\n",
       "Name: count, dtype: int64"
      ]
     },
     "execution_count": 11,
     "metadata": {},
     "output_type": "execute_result"
    }
   ],
   "source": [
    "# 성별, value_counts()\n",
    "seoul_moving['성별'].value_counts()"
   ]
  },
  {
   "cell_type": "markdown",
   "id": "6356b00c",
   "metadata": {},
   "source": [
    "#### 어느 요일의 심야 이동이 가장 많을까요?"
   ]
  },
  {
   "cell_type": "code",
   "execution_count": 12,
   "id": "470c3d5d",
   "metadata": {
    "tags": []
   },
   "outputs": [
    {
     "data": {
      "text/html": [
       "<div>\n",
       "<style scoped>\n",
       "    .dataframe tbody tr th:only-of-type {\n",
       "        vertical-align: middle;\n",
       "    }\n",
       "\n",
       "    .dataframe tbody tr th {\n",
       "        vertical-align: top;\n",
       "    }\n",
       "\n",
       "    .dataframe thead th {\n",
       "        text-align: right;\n",
       "    }\n",
       "</style>\n",
       "<table border=\"1\" class=\"dataframe\">\n",
       "  <thead>\n",
       "    <tr style=\"text-align: right;\">\n",
       "      <th></th>\n",
       "      <th>대상연월</th>\n",
       "      <th>요일</th>\n",
       "      <th>도착시간</th>\n",
       "      <th>출발 시군구 코드</th>\n",
       "      <th>도착 시군구 코드</th>\n",
       "      <th>성별</th>\n",
       "      <th>나이</th>\n",
       "      <th>이동유형</th>\n",
       "      <th>평균 이동 시간(분)</th>\n",
       "      <th>이동인구(합)</th>\n",
       "    </tr>\n",
       "  </thead>\n",
       "  <tbody>\n",
       "    <tr>\n",
       "      <th>0</th>\n",
       "      <td>202401</td>\n",
       "      <td>일</td>\n",
       "      <td>0</td>\n",
       "      <td>11010</td>\n",
       "      <td>11010</td>\n",
       "      <td>F</td>\n",
       "      <td>0</td>\n",
       "      <td>EE</td>\n",
       "      <td>20</td>\n",
       "      <td>28.06</td>\n",
       "    </tr>\n",
       "    <tr>\n",
       "      <th>1</th>\n",
       "      <td>202401</td>\n",
       "      <td>일</td>\n",
       "      <td>0</td>\n",
       "      <td>11010</td>\n",
       "      <td>11010</td>\n",
       "      <td>F</td>\n",
       "      <td>10</td>\n",
       "      <td>EE</td>\n",
       "      <td>167</td>\n",
       "      <td>11.96</td>\n",
       "    </tr>\n",
       "    <tr>\n",
       "      <th>2</th>\n",
       "      <td>202401</td>\n",
       "      <td>일</td>\n",
       "      <td>0</td>\n",
       "      <td>11010</td>\n",
       "      <td>11010</td>\n",
       "      <td>F</td>\n",
       "      <td>10</td>\n",
       "      <td>EH</td>\n",
       "      <td>203</td>\n",
       "      <td>17.63</td>\n",
       "    </tr>\n",
       "  </tbody>\n",
       "</table>\n",
       "</div>"
      ],
      "text/plain": [
       "     대상연월 요일  도착시간  출발 시군구 코드  도착 시군구 코드 성별  나이 이동유형  평균 이동 시간(분)  이동인구(합)\n",
       "0  202401  일     0      11010      11010  F   0   EE           20    28.06\n",
       "1  202401  일     0      11010      11010  F  10   EE          167    11.96\n",
       "2  202401  일     0      11010      11010  F  10   EH          203    17.63"
      ]
     },
     "execution_count": 12,
     "metadata": {},
     "output_type": "execute_result"
    }
   ],
   "source": [
    "# 새벽 5시까지 도착하는 이동 사례, seoul_moving_night 변수 저장\n",
    "\n",
    "seoul_moving_night = seoul_moving[seoul_moving['도착시간'] <= 5]\n",
    "\n",
    "seoul_moving_night.head(3)"
   ]
  },
  {
   "cell_type": "markdown",
   "id": "45594fc1",
   "metadata": {},
   "source": [
    "#### 서울 지역의 데이터만 골라 보도록 하겠습니다.\n",
    "\n",
    "* 우리는 서울시의 데이터만 필요합니다.\n",
    "* 시군구 코드:광역시도(2자리)+시군구(3자리) / 서울:11, 부산:26, 대구:27, 인천:28, 광주:29, 대전:30, 울산:31\n",
    "\n",
    "* 출발과 도착이 모두 서울인 데이터만 추출!"
   ]
  },
  {
   "cell_type": "code",
   "execution_count": 13,
   "id": "fab14a50",
   "metadata": {
    "tags": []
   },
   "outputs": [],
   "source": [
    "# 출발 시군구 코드, 도착 시군구 코드 <20000\n",
    "seoul_data = seoul_moving[(seoul_moving['출발 시군구 코드'] < 20000) & (seoul_moving['도착 시군구 코드'] < 20000)]"
   ]
  },
  {
   "cell_type": "code",
   "execution_count": 14,
   "id": "2b5bdcde",
   "metadata": {},
   "outputs": [
    {
     "data": {
      "text/html": [
       "<div>\n",
       "<style scoped>\n",
       "    .dataframe tbody tr th:only-of-type {\n",
       "        vertical-align: middle;\n",
       "    }\n",
       "\n",
       "    .dataframe tbody tr th {\n",
       "        vertical-align: top;\n",
       "    }\n",
       "\n",
       "    .dataframe thead th {\n",
       "        text-align: right;\n",
       "    }\n",
       "</style>\n",
       "<table border=\"1\" class=\"dataframe\">\n",
       "  <thead>\n",
       "    <tr style=\"text-align: right;\">\n",
       "      <th></th>\n",
       "      <th>대상연월</th>\n",
       "      <th>요일</th>\n",
       "      <th>도착시간</th>\n",
       "      <th>출발 시군구 코드</th>\n",
       "      <th>도착 시군구 코드</th>\n",
       "      <th>성별</th>\n",
       "      <th>나이</th>\n",
       "      <th>이동유형</th>\n",
       "      <th>평균 이동 시간(분)</th>\n",
       "      <th>이동인구(합)</th>\n",
       "    </tr>\n",
       "  </thead>\n",
       "  <tbody>\n",
       "    <tr>\n",
       "      <th>0</th>\n",
       "      <td>202401</td>\n",
       "      <td>일</td>\n",
       "      <td>0</td>\n",
       "      <td>11010</td>\n",
       "      <td>11010</td>\n",
       "      <td>F</td>\n",
       "      <td>0</td>\n",
       "      <td>EE</td>\n",
       "      <td>20</td>\n",
       "      <td>28.06</td>\n",
       "    </tr>\n",
       "    <tr>\n",
       "      <th>1</th>\n",
       "      <td>202401</td>\n",
       "      <td>일</td>\n",
       "      <td>0</td>\n",
       "      <td>11010</td>\n",
       "      <td>11010</td>\n",
       "      <td>F</td>\n",
       "      <td>10</td>\n",
       "      <td>EE</td>\n",
       "      <td>167</td>\n",
       "      <td>11.96</td>\n",
       "    </tr>\n",
       "    <tr>\n",
       "      <th>2</th>\n",
       "      <td>202401</td>\n",
       "      <td>일</td>\n",
       "      <td>0</td>\n",
       "      <td>11010</td>\n",
       "      <td>11010</td>\n",
       "      <td>F</td>\n",
       "      <td>10</td>\n",
       "      <td>EH</td>\n",
       "      <td>203</td>\n",
       "      <td>17.63</td>\n",
       "    </tr>\n",
       "  </tbody>\n",
       "</table>\n",
       "</div>"
      ],
      "text/plain": [
       "     대상연월 요일  도착시간  출발 시군구 코드  도착 시군구 코드 성별  나이 이동유형  평균 이동 시간(분)  이동인구(합)\n",
       "0  202401  일     0      11010      11010  F   0   EE           20    28.06\n",
       "1  202401  일     0      11010      11010  F  10   EE          167    11.96\n",
       "2  202401  일     0      11010      11010  F  10   EH          203    17.63"
      ]
     },
     "execution_count": 14,
     "metadata": {},
     "output_type": "execute_result"
    }
   ],
   "source": [
    "seoul_data.head(3)"
   ]
  },
  {
   "cell_type": "markdown",
   "id": "e968a0ae",
   "metadata": {},
   "source": [
    "#### 서울지역의 구 별로 groupby하여 데이터 확인 (유동인구 기준)\n",
    "\n",
    "* 유출이 제일 많은 구는?\n",
    "\n",
    "* 유입이 제일 많은 구는?\n",
    "\n",
    "* 유출이 제일 적은 구는?\n",
    "\n",
    "* 유입이 제일 적은 구는?"
   ]
  },
  {
   "cell_type": "markdown",
   "id": "ab98b422",
   "metadata": {},
   "source": [
    "* 참고자료 서울 구별 코드\n",
    "    * 11010\t종로구\n",
    "    * 11020\t중구\n",
    "    * 11030\t용산구\n",
    "    * 11040\t성동구\n",
    "    * 11050\t광진구\n",
    "    * 11060\t동대문구\n",
    "    * 11070\t중랑구\n",
    "    * 11080\t성북구\n",
    "    * 11090\t강북구\n",
    "    * 11100\t도봉구\n",
    "    * 11110\t노원구\n",
    "    * 11120\t은평구\n",
    "    * 11130\t서대문구\n",
    "    * 11140\t마포구\n",
    "    * 11150\t양천구\n",
    "    * 11160\t강서구\n",
    "    * 11170\t구로구\n",
    "    * 11180\t금천구\n",
    "    * 11190\t영등포구\n",
    "    * 11200\t동작구\n",
    "    * 11210\t관악구\n",
    "    * 11220\t서초구\n",
    "    * 11230\t강남구\n",
    "    * 11240\t송파구\n",
    "    * 11250\t강동구"
   ]
  },
  {
   "cell_type": "code",
   "execution_count": 15,
   "id": "3eb5dfa1",
   "metadata": {},
   "outputs": [],
   "source": [
    "gu_code = {\n",
    "    \"11010\":\"종로구\",\n",
    "    \"11020\":\"중구\",\n",
    "    \"11030\":\"용산구\",\n",
    "    \"11040\":\"성동구\",\n",
    "    \"11050\":\"광진구\",\n",
    "    \"11060\":\"동대문구\",\n",
    "    \"11070\":\"중랑구\",\n",
    "    \"11080\":\"강북구\",\n",
    "    \"11090\":\"도봉구\",\n",
    "    \"11110\":\"노원구\",\n",
    "    \"11120\":\"은평구\",\n",
    "    \"11130\":\"종로구\",\n",
    "    \"11010\":\"서대문구\",\n",
    "    \"11140\":\"양천구\",\n",
    "    \"11160\":\"강서구\",\n",
    "    \"11170\":\"구로구\",\n",
    "    \"11180\":\"금천구\",\n",
    "    \"11190\":\"영등포구\",\n",
    "    \"11200\":\"동작구\",\n",
    "    \"11210\":\"관악구\",\n",
    "    \"11220\":\"서초구\",\n",
    "    \"11230\":\"강남구\",\n",
    "    \"11240\":\"송파구\",\n",
    "    \"11250\":\"강동구\",\n",
    "    \"11010\":\"종로구\"\n",
    "}"
   ]
  },
  {
   "cell_type": "code",
   "execution_count": 16,
   "id": "38564819",
   "metadata": {},
   "outputs": [
    {
     "name": "stdout",
     "output_type": "stream",
     "text": [
      "유출이 제입 많은 구 : 강남구\n",
      "유출이 제입 적은 구 : 금천구\n"
     ]
    }
   ],
   "source": [
    "# 유출이 제일 많은 구와 적은 구는?\n",
    "outflow_grouped = seoul_data.groupby('출발 시군구 코드')['이동인구(합)'].sum()\n",
    "print(f\"유출이 제입 많은 구 : {gu_code[str(outflow_grouped.idxmax())]}\")\n",
    "print(f\"유출이 제입 적은 구 : {gu_code[str(outflow_grouped.idxmin())]}\")"
   ]
  },
  {
   "cell_type": "code",
   "execution_count": 17,
   "id": "5b74bb6d",
   "metadata": {},
   "outputs": [
    {
     "name": "stdout",
     "output_type": "stream",
     "text": [
      "유입이 제입 많은 구 : 강남구\n",
      "유입이 제입 적은 구 : 금천구\n"
     ]
    }
   ],
   "source": [
    "# 유입이 제일 많은 구와 적은 구는?\n",
    "inflow_grouped = seoul_data.groupby('도착 시군구 코드')['이동인구(합)'].sum()\n",
    "print(f\"유입이 제입 많은 구 : {gu_code[str(inflow_grouped.idxmax())]}\")\n",
    "print(f\"유입이 제입 적은 구 : {gu_code[str(inflow_grouped.idxmin())]}\")"
   ]
  },
  {
   "cell_type": "markdown",
   "id": "1ace49d0",
   "metadata": {},
   "source": [
    "#### 낮시간만! 심야버스 제외\n",
    "\n",
    "* 도착시간 0부터 4까지(0:00 ~ 4:59) 제거"
   ]
  },
  {
   "cell_type": "code",
   "execution_count": 18,
   "id": "d54050e1",
   "metadata": {},
   "outputs": [
    {
     "data": {
      "text/html": [
       "<div>\n",
       "<style scoped>\n",
       "    .dataframe tbody tr th:only-of-type {\n",
       "        vertical-align: middle;\n",
       "    }\n",
       "\n",
       "    .dataframe tbody tr th {\n",
       "        vertical-align: top;\n",
       "    }\n",
       "\n",
       "    .dataframe thead th {\n",
       "        text-align: right;\n",
       "    }\n",
       "</style>\n",
       "<table border=\"1\" class=\"dataframe\">\n",
       "  <thead>\n",
       "    <tr style=\"text-align: right;\">\n",
       "      <th></th>\n",
       "      <th>대상연월</th>\n",
       "      <th>요일</th>\n",
       "      <th>도착시간</th>\n",
       "      <th>출발 시군구 코드</th>\n",
       "      <th>도착 시군구 코드</th>\n",
       "      <th>성별</th>\n",
       "      <th>나이</th>\n",
       "      <th>이동유형</th>\n",
       "      <th>평균 이동 시간(분)</th>\n",
       "      <th>이동인구(합)</th>\n",
       "    </tr>\n",
       "  </thead>\n",
       "  <tbody>\n",
       "    <tr>\n",
       "      <th>2377741</th>\n",
       "      <td>202401</td>\n",
       "      <td>일</td>\n",
       "      <td>5</td>\n",
       "      <td>11010</td>\n",
       "      <td>11010</td>\n",
       "      <td>F</td>\n",
       "      <td>0</td>\n",
       "      <td>HE</td>\n",
       "      <td>54</td>\n",
       "      <td>28.28</td>\n",
       "    </tr>\n",
       "    <tr>\n",
       "      <th>2377742</th>\n",
       "      <td>202401</td>\n",
       "      <td>일</td>\n",
       "      <td>5</td>\n",
       "      <td>11010</td>\n",
       "      <td>11010</td>\n",
       "      <td>F</td>\n",
       "      <td>0</td>\n",
       "      <td>HW</td>\n",
       "      <td>30</td>\n",
       "      <td>28.03</td>\n",
       "    </tr>\n",
       "    <tr>\n",
       "      <th>2377743</th>\n",
       "      <td>202401</td>\n",
       "      <td>일</td>\n",
       "      <td>5</td>\n",
       "      <td>11010</td>\n",
       "      <td>11010</td>\n",
       "      <td>F</td>\n",
       "      <td>10</td>\n",
       "      <td>EE</td>\n",
       "      <td>54</td>\n",
       "      <td>6.00</td>\n",
       "    </tr>\n",
       "  </tbody>\n",
       "</table>\n",
       "</div>"
      ],
      "text/plain": [
       "           대상연월 요일  도착시간  출발 시군구 코드  도착 시군구 코드 성별  나이 이동유형  평균 이동 시간(분)  \\\n",
       "2377741  202401  일     5      11010      11010  F   0   HE           54   \n",
       "2377742  202401  일     5      11010      11010  F   0   HW           30   \n",
       "2377743  202401  일     5      11010      11010  F  10   EE           54   \n",
       "\n",
       "         이동인구(합)  \n",
       "2377741    28.28  \n",
       "2377742    28.03  \n",
       "2377743     6.00  "
      ]
     },
     "execution_count": 18,
     "metadata": {},
     "output_type": "execute_result"
    }
   ],
   "source": [
    "# '도착시간' >=5\n",
    "# 새벽 5시까지 도착하는 이동 사례, seoul_moving_night 변수 저장\n",
    "\n",
    "seoul_moving_day = seoul_moving[seoul_moving['도착시간'] >= 5]\n",
    "\n",
    "seoul_moving_day.head(3)"
   ]
  },
  {
   "cell_type": "markdown",
   "id": "bff8a6d6",
   "metadata": {},
   "source": [
    "#### '도착 시군구 코드' 를 기준으로 각 구별로 '평균 이동 시간(분)' , '이동인구(합)' 의 평균 과 합 계산\n",
    "\n",
    "* groupby 사용, as_index=False로 설정"
   ]
  },
  {
   "cell_type": "code",
   "execution_count": 19,
   "id": "7783e416",
   "metadata": {},
   "outputs": [
    {
     "data": {
      "text/html": [
       "<div>\n",
       "<style scoped>\n",
       "    .dataframe tbody tr th:only-of-type {\n",
       "        vertical-align: middle;\n",
       "    }\n",
       "\n",
       "    .dataframe tbody tr th {\n",
       "        vertical-align: top;\n",
       "    }\n",
       "\n",
       "    .dataframe thead th {\n",
       "        text-align: right;\n",
       "    }\n",
       "</style>\n",
       "<table border=\"1\" class=\"dataframe\">\n",
       "  <thead>\n",
       "    <tr style=\"text-align: right;\">\n",
       "      <th></th>\n",
       "      <th>도착 시군구 코드</th>\n",
       "      <th>평균 이동 시간(분)</th>\n",
       "      <th>이동인구(합)</th>\n",
       "    </tr>\n",
       "  </thead>\n",
       "  <tbody>\n",
       "    <tr>\n",
       "      <th>0</th>\n",
       "      <td>11010</td>\n",
       "      <td>88.403146</td>\n",
       "      <td>28.184992</td>\n",
       "    </tr>\n",
       "    <tr>\n",
       "      <th>1</th>\n",
       "      <td>11020</td>\n",
       "      <td>85.488992</td>\n",
       "      <td>29.646272</td>\n",
       "    </tr>\n",
       "    <tr>\n",
       "      <th>2</th>\n",
       "      <td>11030</td>\n",
       "      <td>82.991840</td>\n",
       "      <td>22.645748</td>\n",
       "    </tr>\n",
       "  </tbody>\n",
       "</table>\n",
       "</div>"
      ],
      "text/plain": [
       "   도착 시군구 코드  평균 이동 시간(분)    이동인구(합)\n",
       "0      11010    88.403146  28.184992\n",
       "1      11020    85.488992  29.646272\n",
       "2      11030    82.991840  22.645748"
      ]
     },
     "execution_count": 19,
     "metadata": {},
     "output_type": "execute_result"
    }
   ],
   "source": [
    "# 평균을 구해서 df_mean 변수로 저장\n",
    "df_mean = seoul_moving.groupby(['도착 시군구 코드'],as_index=False)[['평균 이동 시간(분)','이동인구(합)']].mean()\n",
    "df_mean.head(3)"
   ]
  },
  {
   "cell_type": "code",
   "execution_count": 20,
   "id": "86bd27f5",
   "metadata": {},
   "outputs": [
    {
     "data": {
      "text/html": [
       "<div>\n",
       "<style scoped>\n",
       "    .dataframe tbody tr th:only-of-type {\n",
       "        vertical-align: middle;\n",
       "    }\n",
       "\n",
       "    .dataframe tbody tr th {\n",
       "        vertical-align: top;\n",
       "    }\n",
       "\n",
       "    .dataframe thead th {\n",
       "        text-align: right;\n",
       "    }\n",
       "</style>\n",
       "<table border=\"1\" class=\"dataframe\">\n",
       "  <thead>\n",
       "    <tr style=\"text-align: right;\">\n",
       "      <th></th>\n",
       "      <th>도착 시군구 코드</th>\n",
       "      <th>총 이동 시간</th>\n",
       "      <th>총 이동인구</th>\n",
       "    </tr>\n",
       "  </thead>\n",
       "  <tbody>\n",
       "    <tr>\n",
       "      <th>0</th>\n",
       "      <td>11010</td>\n",
       "      <td>75660805</td>\n",
       "      <td>24122435.37</td>\n",
       "    </tr>\n",
       "    <tr>\n",
       "      <th>1</th>\n",
       "      <td>11020</td>\n",
       "      <td>74786540</td>\n",
       "      <td>25934825.41</td>\n",
       "    </tr>\n",
       "    <tr>\n",
       "      <th>2</th>\n",
       "      <td>11030</td>\n",
       "      <td>67096081</td>\n",
       "      <td>18308317.25</td>\n",
       "    </tr>\n",
       "  </tbody>\n",
       "</table>\n",
       "</div>"
      ],
      "text/plain": [
       "   도착 시군구 코드   총 이동 시간       총 이동인구\n",
       "0      11010  75660805  24122435.37\n",
       "1      11020  74786540  25934825.41\n",
       "2      11030  67096081  18308317.25"
      ]
     },
     "execution_count": 20,
     "metadata": {},
     "output_type": "execute_result"
    }
   ],
   "source": [
    "# 합을 구해서 df_sum 변수로 저장\n",
    "# 평균이동시간(분) -> 총 이동 시간, 이동인구(합) -> 총 이동인구로 이름 대체\n",
    "df_sum = seoul_moving.groupby(['도착 시군구 코드'],as_index=False)[['평균 이동 시간(분)','이동인구(합)']].sum()\n",
    "df_sum.rename(columns={'평균 이동 시간(분)':'총 이동 시간','이동인구(합)':'총 이동인구'},inplace=True)\n",
    "df_sum.head(3)"
   ]
  },
  {
   "cell_type": "code",
   "execution_count": 21,
   "id": "cb213b3a",
   "metadata": {},
   "outputs": [
    {
     "data": {
      "text/html": [
       "<div>\n",
       "<style scoped>\n",
       "    .dataframe tbody tr th:only-of-type {\n",
       "        vertical-align: middle;\n",
       "    }\n",
       "\n",
       "    .dataframe tbody tr th {\n",
       "        vertical-align: top;\n",
       "    }\n",
       "\n",
       "    .dataframe thead th {\n",
       "        text-align: right;\n",
       "    }\n",
       "</style>\n",
       "<table border=\"1\" class=\"dataframe\">\n",
       "  <thead>\n",
       "    <tr style=\"text-align: right;\">\n",
       "      <th></th>\n",
       "      <th>도착 시군구 코드</th>\n",
       "      <th>평균 이동 시간(분)</th>\n",
       "      <th>이동인구(합)</th>\n",
       "      <th>총 이동 시간</th>\n",
       "      <th>총 이동인구</th>\n",
       "    </tr>\n",
       "  </thead>\n",
       "  <tbody>\n",
       "    <tr>\n",
       "      <th>0</th>\n",
       "      <td>11010</td>\n",
       "      <td>88.403146</td>\n",
       "      <td>28.184992</td>\n",
       "      <td>75660805</td>\n",
       "      <td>24122435.37</td>\n",
       "    </tr>\n",
       "    <tr>\n",
       "      <th>1</th>\n",
       "      <td>11020</td>\n",
       "      <td>85.488992</td>\n",
       "      <td>29.646272</td>\n",
       "      <td>74786540</td>\n",
       "      <td>25934825.41</td>\n",
       "    </tr>\n",
       "    <tr>\n",
       "      <th>2</th>\n",
       "      <td>11030</td>\n",
       "      <td>82.991840</td>\n",
       "      <td>22.645748</td>\n",
       "      <td>67096081</td>\n",
       "      <td>18308317.25</td>\n",
       "    </tr>\n",
       "  </tbody>\n",
       "</table>\n",
       "</div>"
      ],
      "text/plain": [
       "   도착 시군구 코드  평균 이동 시간(분)    이동인구(합)   총 이동 시간       총 이동인구\n",
       "0      11010    88.403146  28.184992  75660805  24122435.37\n",
       "1      11020    85.488992  29.646272  74786540  25934825.41\n",
       "2      11030    82.991840  22.645748  67096081  18308317.25"
      ]
     },
     "execution_count": 21,
     "metadata": {},
     "output_type": "execute_result"
    }
   ],
   "source": [
    "# pd.merge()\n",
    "\n",
    "# df_mean\n",
    "# df_sum\n",
    "\n",
    "df_merge = pd.merge(df_mean, df_sum, how='inner', on='도착 시군구 코드')\n",
    "df_merge.head(3)"
   ]
  },
  {
   "cell_type": "code",
   "execution_count": 22,
   "id": "b7389d07",
   "metadata": {},
   "outputs": [],
   "source": [
    "# to_csv()\n",
    "df_merge.to_csv('./seoul_moving.csv',index=False)"
   ]
  },
  {
   "cell_type": "markdown",
   "id": "602b8bae",
   "metadata": {},
   "source": [
    "---"
   ]
  },
  {
   "cell_type": "markdown",
   "id": "southeast-integration",
   "metadata": {},
   "source": [
    "## Step 2.3.데이터 시각화\n",
    "  * 데이터들의 패턴 탐색\n",
    "  * 변수들간의 관계 파악"
   ]
  },
  {
   "cell_type": "code",
   "execution_count": 23,
   "id": "194ae01d",
   "metadata": {},
   "outputs": [],
   "source": [
    "# 시각화 한글폰트 설정\n",
    "import seaborn as sns\n",
    "import matplotlib.pyplot as plt\n",
    "\n",
    "# For Mac OS\n",
    "plt.rc('font', family='AppleGothic')\n",
    "sns.set(font=\"AppleGothic\", \n",
    "        rc={\"axes.unicode_minus\":False}, # 마이너스 부호 깨짐 현상 해결\n",
    "        style='darkgrid')\n",
    "\n",
    "# # For Windows\n",
    "# plt.rc('font', family='Malgun Gothic')\n",
    "# sns.set(font=\"Malgun Gothic\", \n",
    "#         rc={\"axes.unicode_minus\":False}, # 마이너스 부호 깨짐 현상 해결\n",
    "#         style='darkgrid')"
   ]
  },
  {
   "cell_type": "markdown",
   "id": "material-complex",
   "metadata": {},
   "source": [
    "#### 데이터 분포"
   ]
  },
  {
   "cell_type": "markdown",
   "id": "b74d49c3",
   "metadata": {},
   "source": [
    "* 가설 1. 요일이 유동인구에 영향을 미치는가?\n",
    "* 가설 2. 시간대별 유동에 따른 차이가 발생하는가?\n",
    "* 가설 3. 성별에 따른 유동인구에 차이가 발생하는가?\n",
    "* 가설 4. 나이에 따른 활동량으로 유동인구에 차이가 발생하는가?\n",
    "* 가설 5. 이동유형에 따라 평균 이동시간에 차이가 발생하는가?\n",
    "* 가설 6. 출근시간(06:00 ~ 10:00) 퇴근시간(05:00 ~ 09:00)를 구분지어야 하는가?"
   ]
  },
  {
   "cell_type": "code",
   "execution_count": 24,
   "id": "18fb3094",
   "metadata": {},
   "outputs": [
    {
     "data": {
      "image/png": "[encoded data removed]",
      "text/plain": [
       "<Figure size 640x480 with 1 Axes>"
      ]
     },
     "metadata": {},
     "output_type": "display_data"
    }
   ],
   "source": [
    "# 가설 : 요일이 유동인구에 영향을 미치는가?\n",
    "# 요일별 유동인구 평균 계산\n",
    "day_mean = seoul_moving.groupby('요일')['이동인구(합)'].mean()\n",
    "\n",
    "# 요일별 유동인구 시각화\n",
    "sns.barplot(x=day_mean.index, y=day_mean.values)\n",
    "plt.title('요일에 따른 유동인구 평균')\n",
    "plt.xlabel('요일')\n",
    "plt.ylabel('평균 이동인구(합)')\n",
    "plt.show()"
   ]
  },
  {
   "cell_type": "code",
   "execution_count": 25,
   "id": "8a1886bc",
   "metadata": {},
   "outputs": [
    {
     "name": "stderr",
     "output_type": "stream",
     "text": [
      "/Users/dkmoon/anaconda3/lib/python3.11/site-packages/seaborn/_oldcore.py:1119: FutureWarning: use_inf_as_na option is deprecated and will be removed in a future version. Convert inf values to NaN before operating instead.\n",
      "  with pd.option_context('mode.use_inf_as_na', True):\n",
      "/Users/dkmoon/anaconda3/lib/python3.11/site-packages/seaborn/_oldcore.py:1119: FutureWarning: use_inf_as_na option is deprecated and will be removed in a future version. Convert inf values to NaN before operating instead.\n",
      "  with pd.option_context('mode.use_inf_as_na', True):\n"
     ]
    },
    {
     "data": {
      "image/png": "[encoded data removed]",
      "text/plain": [
       "<Figure size 640x480 with 1 Axes>"
      ]
     },
     "metadata": {},
     "output_type": "display_data"
    }
   ],
   "source": [
    "# 가설 : 시간대별 유동에 따른 차이가 발생하는가?\n",
    "# 시간대별 유동인구 평균 계산\n",
    "time_mean = seoul_moving.groupby('도착시간')['이동인구(합)'].mean()\n",
    "\n",
    "# 시간대별 유동인구 시각화\n",
    "sns.lineplot(x=time_mean.index, y=time_mean.values)\n",
    "plt.title('시간대별 유동인구 변화')\n",
    "plt.xlabel('도착시간')\n",
    "plt.ylabel('평균 이동인구(합)')\n",
    "plt.xticks(range(0, 24))  # 0시부터 23시까지\n",
    "plt.show()"
   ]
  },
  {
   "cell_type": "code",
   "execution_count": 26,
   "id": "59798218",
   "metadata": {},
   "outputs": [
    {
     "data": {
      "image/png": "[encoded data removed]",
      "text/plain": [
       "<Figure size 640x480 with 1 Axes>"
      ]
     },
     "metadata": {},
     "output_type": "display_data"
    }
   ],
   "source": [
    "# 가설 : 성별에 따른 유동인구에 차이가 발생하는가?\n",
    "# 성별별 유동인구 평균 계산\n",
    "gender_mean = seoul_moving.groupby('성별')['이동인구(합)'].mean()\n",
    "\n",
    "# 성별별 유동인구 시각화\n",
    "sns.barplot(x=gender_mean.index, y=gender_mean.values)\n",
    "plt.title('성별에 따른 유동인구 평균')\n",
    "plt.xlabel('성별')\n",
    "plt.ylabel('평균 이동인구(합)')\n",
    "plt.show()"
   ]
  },
  {
   "cell_type": "code",
   "execution_count": 27,
   "id": "bd2459aa",
   "metadata": {},
   "outputs": [
    {
     "data": {
      "image/png": "[encoded data removed]",
      "text/plain": [
       "<Figure size 640x480 with 1 Axes>"
      ]
     },
     "metadata": {},
     "output_type": "display_data"
    }
   ],
   "source": [
    "# 가설 : 나이에 따른 활동량으로 유동인구에 차이가 발생하는가?\n",
    "# 나이대별 유동인구 평균 계산\n",
    "age_mean = seoul_moving.groupby('나이')['이동인구(합)'].mean()\n",
    "\n",
    "# 나이대별 유동인구 시각화\n",
    "sns.barplot(x=age_mean.index, y=age_mean.values)\n",
    "plt.title('나이대별 유동인구 평균')\n",
    "plt.xlabel('나이')\n",
    "plt.ylabel('평균 이동인구(합)')\n",
    "plt.show()"
   ]
  },
  {
   "cell_type": "code",
   "execution_count": 28,
   "id": "6105e7c0",
   "metadata": {},
   "outputs": [
    {
     "data": {
      "image/png": "[encoded data removed]",
      "text/plain": [
       "<Figure size 640x480 with 1 Axes>"
      ]
     },
     "metadata": {},
     "output_type": "display_data"
    }
   ],
   "source": [
    "# 가설 : 이동유형에 따라 평균 이동시간에 차이가 발생하는가?\n",
    "# 이동유형별 평균 이동 시간 계산\n",
    "type_mean_time = seoul_moving.groupby('이동유형')['평균 이동 시간(분)'].mean()\n",
    "\n",
    "# 이동유형별 평균 이동 시간 시각화\n",
    "## 문자열 의미 : 출발지 + 도착지\n",
    "sns.barplot(x=type_mean_time.index, y=type_mean_time.values)\n",
    "plt.title('이동유형별 평균 이동 시간')\n",
    "plt.xlabel('이동유형')\n",
    "plt.ylabel('평균 이동 시간(분)')\n",
    "plt.show()"
   ]
  },
  {
   "cell_type": "code",
   "execution_count": 29,
   "id": "a4d186e8",
   "metadata": {},
   "outputs": [
    {
     "data": {
      "image/png": "[encoded data removed]",
      "text/plain": [
       "<Figure size 640x480 with 1 Axes>"
      ]
     },
     "metadata": {},
     "output_type": "display_data"
    }
   ],
   "source": [
    "# 가설 : 출근시간과 퇴근 시간의 유동인구에 따른 차이가 발생하는가?\n",
    "def categorize_time(hour):\n",
    "    if 6 <= hour <= 10:\n",
    "        return '출근시간'\n",
    "    elif 17 <= hour <= 21:\n",
    "        return '퇴근시간'\n",
    "    else:\n",
    "        return '일상시간'\n",
    "\n",
    "# '시간대' 컬럼 추가\n",
    "seoul_moving['시간대'] = seoul_moving['도착시간'].apply(categorize_time)\n",
    "\n",
    "# 시간대별 유동인구 평균 계산\n",
    "time_period_mean = seoul_moving.groupby('시간대')['이동인구(합)'].mean()\n",
    "\n",
    "# 시간대별 유동인구 시각화\n",
    "sns.barplot(x=time_period_mean.index, y=time_period_mean.values)\n",
    "plt.title('시간대별 유동인구 평균')\n",
    "plt.xlabel('시간대')\n",
    "plt.ylabel('평균 이동인구(합)')\n",
    "plt.show()"
   ]
  },
  {
   "cell_type": "markdown",
   "id": "270302d1",
   "metadata": {},
   "source": [
    "### My Insight"
   ]
  },
  {
   "cell_type": "markdown",
   "id": "e2676700",
   "metadata": {},
   "source": [
    "- 가설 1. 요일이 유동인구에 영향을 미치는가?\n",
    "   - 전반적으로 휴일인 토요일과 일요일에 비해 평일에 유동인구가 많다.\n",
    "- 가설 2. 시간대별 유동에 따른 차이가 발생하는가?\n",
    "   - 시간에 따라 집중되어 유동이 발생하는 폭이 확연하게 확인가능하다.\n",
    "- 가설 3. 성별에 따른 유동인구에 차이가 발생하는가?\n",
    "   - 여성의 유동량이 남성보다 많이 발생한다.\n",
    "- 가설 4.나이에 따른 활동량으로 유동인구에 차이가 발생하는가?\n",
    "   - 시각적으로 확인하였을 때에는 특이하게 0~9세, 80세 이상의 인구의 유동량이 많이 나타난 것으로 보아 데이터에 대하여 정확하게 입력이 된 데이터인지, 아니면 비율로 전환해서 확인해보아야 한다.\n",
    "- 가설 5.이동유형에 따라 평균 이동시간에 차이가 발생하는가?\n",
    "   - E에 관련된 이동유형이 E가 미포함된 이동유형의 유동량보다 높은 편이다.\n",
    "-  가설 6. 출근시간과 퇴근 시간의 유동인구에 따른 차이가 발생하는가?\n",
    "   - 출근시간에서 인구의 유동이 가장 많고, 퇴근시간의 경우 야근 혹은 회식으로 인해 시간이 늦어지는 경우로 인하여 출근시간보다는 작게 나타나지만, 출퇴근 시간을 합쳐서 본다면 일상시간에 비해 확연히 많은 비중을 차지한다."
   ]
  },
  {
   "cell_type": "markdown",
   "id": "ca567b34",
   "metadata": {},
   "source": [
    "---"
   ]
  },
  {
   "cell_type": "code",
   "execution_count": null,
   "id": "7d9c003b",
   "metadata": {},
   "outputs": [],
   "source": []
  }
 ],
 "metadata": {
  "kernelspec": {
   "display_name": "Python 3 (ipykernel)",
   "language": "python",
   "name": "python3"
  },
  "language_info": {
   "codemirror_mode": {
    "name": "ipython",
    "version": 3
   },
   "file_extension": ".py",
   "mimetype": "text/x-python",
   "name": "python",
   "nbconvert_exporter": "python",
   "pygments_lexer": "ipython3",
   "version": "3.11.5"
  },
  "vscode": {
   "interpreter": {
    "hash": "136ac6390a149cc93e6470a8f7f2b930c2fa00ca17cae58650efc746ba1de66d"
   }
  }
 },
 "nbformat": 4,
 "nbformat_minor": 5
}
