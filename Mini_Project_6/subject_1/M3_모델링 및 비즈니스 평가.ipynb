{
 "cells": [
  {
   "cell_type": "markdown",
   "metadata": {},
   "source": [
    "># 유통 판매량 예측 및 재고 최적화"
   ]
  },
  {
   "cell_type": "markdown",
   "metadata": {},
   "source": [
    "# 단계 3 : 모델링 및 비즈니스 평가"
   ]
  },
  {
   "cell_type": "markdown",
   "metadata": {},
   "source": [
    "# 라이브러리 호출"
   ]
  },
  {
   "cell_type": "code",
   "execution_count": null,
   "metadata": {},
   "outputs": [],
   "source": [
    "import utils.dataloader\n",
    "import utils.preprocessing\n",
    "import utils.dataloader\n",
    "import utils.train\n",
    "import utils.test\n",
    "import utils.evaluate\n",
    "\n",
    "import matplotlib.pyplot as plt\n",
    "from sklearn.metrics import *\n",
    "import pickle\n",
    "import warnings\n",
    "warnings.filterwarnings('ignore')"
   ]
  },
  {
   "cell_type": "markdown",
   "metadata": {},
   "source": [
    "# 모델링"
   ]
  },
  {
   "cell_type": "code",
   "execution_count": null,
   "metadata": {},
   "outputs": [],
   "source": [
    "# Data Load\n",
    "train_path = \"./data/train\"\n",
    "datas = utils.dataloader.train_loader(train_path)\n",
    "\n",
    "# Training Step\n",
    "model_type = 'transformer' # lstm, cnn, transformer, conv_lstm\n",
    "store_id = 44\n",
    "product_id = 3\n",
    "data_info = utils.preprocessing.preprocess(datas, model_type, store_id=store_id, product_id=product_id,\n",
    "                                           timestep=24, training=True,\n",
    "                                           x_scaling=True, y_scaling=False)\n",
    "\n",
    "model_params = {\n",
    "    \"epochs\" : 100,\n",
    "    \"batch_size\" : 32,\n",
    "    \"valid_rate\" : 0.2\n",
    "}\n",
    "name = \"_\".join((model_type, str(store_id), str(product_id))) + \".onnx\"\n",
    "model_info = utils.train.trainer(data_info, model_type, model_params, name)"
   ]
  },
  {
   "cell_type": "markdown",
   "metadata": {},
   "source": [
    "# Test"
   ]
  },
  {
   "cell_type": "code",
   "execution_count": null,
   "metadata": {},
   "outputs": [],
   "source": [
    "\n",
    "# Test Step\n",
    "test_path = \"./data/test\"\n",
    "test_data = datas = utils.dataloader.test_loader(test_path)\n",
    "price = test_data[\"price\"]\n",
    "\n",
    "model_type = 'transformer' # lstm, cnn, transformer, conv_lstm\n",
    "store_id = 44\n",
    "product_id = 3\n",
    "test_data_info = utils.preprocessing.preprocess(test_data, model_type, store_id=store_id, product_id=product_id,\n",
    "                                           timestep=24, training=False,\n",
    "                                           x_scaling=True, y_scaling=False)\n",
    "\n",
    "model_onnx = f\"./{model_type}_{store_id}_{product_id}.onnx\"\n",
    "y_pred = utils.test.predictor(test_data_info[\"X\"], model_onnx)[0]\n",
    "\n",
    "with open('./y_scaler.pkl', 'rb') as file:\n",
    "    y_scaler = pickle.load(file)\n",
    "    \n",
    "y_true = y_scaler.inverse_transform(test_data_info[\"y\"])\n",
    "y_pred = y_scaler.inverse_transform(y_pred)\n",
    "\n",
    "\n",
    "mae = mean_absolute_error(y_true, y_pred)\n",
    "rmse = mean_squared_error(y_true, y_pred, squared=False)\n",
    "r2 = r2_score(y_true, y_pred)\n",
    "print(f\"mae : {mae}\\nmse : {rmse}\\nr2 score : {r2}\")\n",
    "print()\n",
    "inventory = utils.evaluate.inv_simulator(y_true, y_pred, 30, price)\n",
    "\n",
    "\n",
    "plt.figure(figsize = (8,5))\n",
    "plt.plot(y_true, label = 'Y true')\n",
    "plt.plot(y_pred, label = 'Y pred')\n",
    "plt.legend()\n",
    "plt.grid()"
   ]
  },
  {
   "cell_type": "code",
   "execution_count": null,
   "metadata": {},
   "outputs": [],
   "source": []
  }
 ],
 "metadata": {
  "kernelspec": {
   "display_name": "TF",
   "language": "python",
   "name": "python3"
  },
  "language_info": {
   "codemirror_mode": {
    "name": "ipython",
    "version": 3
   },
   "file_extension": ".py",
   "mimetype": "text/x-python",
   "name": "python",
   "nbconvert_exporter": "python",
   "pygments_lexer": "ipython3",
   "version": "3.9.19"
  }
 },
 "nbformat": 4,
 "nbformat_minor": 2
}
